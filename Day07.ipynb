{
 "cells": [
  {
   "cell_type": "code",
   "execution_count": 1,
   "metadata": {},
   "outputs": [],
   "source": [
    "import numpy as np\n",
    "import itertools"
   ]
  },
  {
   "cell_type": "markdown",
   "metadata": {},
   "source": [
    "# part 2 only shown below"
   ]
  },
  {
   "cell_type": "code",
   "execution_count": 2,
   "metadata": {},
   "outputs": [],
   "source": [
    "main_program = '3,8,1001,8,10,8,105,1,0,0,21,46,59,84,93,110,191,272,353,434,99999,3,9,101,2,9,9,102,3,9,9,1001,9,5,9,102,4,9,9,1001,9,4,9,4,9,99,3,9,101,3,9,9,102,5,9,9,4,9,99,3,9,1001,9,4,9,1002,9,2,9,101,2,9,9,102,2,9,9,1001,9,3,9,4,9,99,3,9,1002,9,2,9,4,9,99,3,9,102,2,9,9,1001,9,5,9,1002,9,3,9,4,9,99,3,9,102,2,9,9,4,9,3,9,102,2,9,9,4,9,3,9,102,2,9,9,4,9,3,9,102,2,9,9,4,9,3,9,101,1,9,9,4,9,3,9,102,2,9,9,4,9,3,9,101,2,9,9,4,9,3,9,101,2,9,9,4,9,3,9,1001,9,1,9,4,9,3,9,101,2,9,9,4,9,99,3,9,102,2,9,9,4,9,3,9,1002,9,2,9,4,9,3,9,1002,9,2,9,4,9,3,9,1001,9,1,9,4,9,3,9,1001,9,2,9,4,9,3,9,101,1,9,9,4,9,3,9,1001,9,2,9,4,9,3,9,1002,9,2,9,4,9,3,9,1001,9,1,9,4,9,3,9,1001,9,2,9,4,9,99,3,9,101,1,9,9,4,9,3,9,1001,9,1,9,4,9,3,9,101,1,9,9,4,9,3,9,101,1,9,9,4,9,3,9,1002,9,2,9,4,9,3,9,1002,9,2,9,4,9,3,9,1002,9,2,9,4,9,3,9,1001,9,1,9,4,9,3,9,102,2,9,9,4,9,3,9,101,1,9,9,4,9,99,3,9,1001,9,1,9,4,9,3,9,102,2,9,9,4,9,3,9,101,1,9,9,4,9,3,9,1002,9,2,9,4,9,3,9,1001,9,2,9,4,9,3,9,101,1,9,9,4,9,3,9,1002,9,2,9,4,9,3,9,1002,9,2,9,4,9,3,9,1001,9,1,9,4,9,3,9,102,2,9,9,4,9,99,3,9,102,2,9,9,4,9,3,9,1002,9,2,9,4,9,3,9,1002,9,2,9,4,9,3,9,1001,9,1,9,4,9,3,9,101,1,9,9,4,9,3,9,102,2,9,9,4,9,3,9,1002,9,2,9,4,9,3,9,101,2,9,9,4,9,3,9,1002,9,2,9,4,9,3,9,1001,9,2,9,4,9,99'"
   ]
  },
  {
   "cell_type": "code",
   "execution_count": 3,
   "metadata": {},
   "outputs": [],
   "source": [
    "import logging\n",
    "from pathlib import Path\n",
    "import os\n",
    "# create logger with 'spam_application'\n",
    "logger = logging.getLogger('spam_application')\n",
    "logger.setLevel(logging.DEBUG)\n",
    "\n",
    "# delete log if already exists\n",
    "log_path = Path('spam.log')\n",
    "if log_path.exists():\n",
    "    os.remove(log_path)\n",
    "\n",
    "# create file handler which logs even debug messages\n",
    "fh = logging.FileHandler(log_path)\n",
    "fh.setLevel(logging.DEBUG)\n",
    "# create console handler with a higher log level\n",
    "ch = logging.StreamHandler()\n",
    "ch.setLevel(logging.ERROR)\n",
    "# create formatter and add it to the handlers\n",
    "formatter = logging.Formatter('%(asctime)s - %(name)s - %(levelname)s - %(message)s')\n",
    "fh.setFormatter(formatter)\n",
    "ch.setFormatter(formatter)\n",
    "# add the handlers to the logger\n",
    "logger.addHandler(fh)\n",
    "logger.addHandler(ch)"
   ]
  },
  {
   "cell_type": "markdown",
   "metadata": {},
   "source": [
    "# day07"
   ]
  },
  {
   "cell_type": "code",
   "execution_count": 4,
   "metadata": {},
   "outputs": [],
   "source": [
    "op_code_num_params = {  1: 3, # add next two numbers, store according to 3rd param\n",
    "                        2: 3, # multiply next two numbers, store according to 3rd param\n",
    "                        3: 1, # takes integer and stores it at address given by only parameter (1 param)\n",
    "                        4: 1, # outputs the value at the address of its only parameter (1 param)\n",
    "                        5: 2, # jump-if-true: if the first parameter is non-zero, it sets the instruction pointer to the value from the second parameter.\n",
    "                        6: 2, # jump-if-false:\n",
    "                        7: 3, # less than: if the first parameter is less than the second parameter, it stores 1 in the position given by the third parameter. Otherwise, it stores 0.\n",
    "                        8: 3, # equals: if the first parameter is equal to the second parameter, it stores 1 in the position given by the third parameter. Otherwise, it stores 0.\n",
    "                        99: 0} # ends program immediately (0 params)"
   ]
  },
  {
   "cell_type": "code",
   "execution_count": 5,
   "metadata": {},
   "outputs": [],
   "source": [
    "param_modes = {0, # position mode - look at memory location\n",
    "               1} # immediate mode - take value as written"
   ]
  },
  {
   "cell_type": "raw",
   "metadata": {},
   "source": [
    "param modes are specified in all but last two characters of op_codes\n",
    "1002,4,3,4 - 3 parameters, 02 is op code, 0 - 4  #working right to left \n",
    "                                          1 - 3\n",
    "                                          0 - 4 (0 is implied)"
   ]
  },
  {
   "cell_type": "code",
   "execution_count": 6,
   "metadata": {},
   "outputs": [],
   "source": [
    "def get_param_values(param_modes, params, program):\n",
    "    param_values = []\n",
    "    for mode, param in zip(param_modes, params):\n",
    "        if mode == '0':\n",
    "            param_values.append(program[param])\n",
    "        elif mode == '1':\n",
    "            param_values.append(param)\n",
    "    return param_values"
   ]
  },
  {
   "cell_type": "code",
   "execution_count": 7,
   "metadata": {},
   "outputs": [],
   "source": [
    "import copy"
   ]
  },
  {
   "cell_type": "code",
   "execution_count": 8,
   "metadata": {},
   "outputs": [],
   "source": [
    "class amplifier(object):\n",
    "    def __init__(self, name, program, input_queue=None, output_queue=None):\n",
    "        self.name = name\n",
    "        self.program = copy.copy(program)\n",
    "        self.input_queue = input_queue\n",
    "        self.output_queue = output_queue\n",
    "        self.instr_ptr = 0\n",
    "        self.stopped = False\n",
    "        \n",
    "    def run_until_inputop_and_empty_input_queue_or_end_of_program(self):\n",
    "        continue_ = True\n",
    "        next_opcode, _ = self.get_next_opcode_and_instr_modes()\n",
    "        while not (next_opcode == 3 and len(self.input_queue) == 0):\n",
    "            op_code = self.run_single_instruction()\n",
    "            if op_code == 99:\n",
    "                return\n",
    "            next_opcode, _ = self.get_next_opcode_and_instr_modes()\n",
    "        return\n",
    "            \n",
    "    \n",
    "    def get_next_opcode_and_instr_modes(self):\n",
    "        mode_and_op_code = int(self.program[self.instr_ptr])\n",
    "    \n",
    "        logger.info('reading op_code')\n",
    "        op_code = mode_and_op_code % 100\n",
    "        logger.info(f'op_code={op_code}')\n",
    "        \n",
    "        logger.info('getting param_modes')\n",
    "        param_modes = str(mode_and_op_code // 100).zfill(op_code_num_params[op_code])[::-1] # left to right now\n",
    "        logger.info(f'exited param_modes, param_modes = {param_modes}')\n",
    "        return op_code, param_modes\n",
    "\n",
    "        \n",
    "    def run_single_instruction(self):\n",
    "        logger.info(f'self.name:{self.name}')\n",
    "        logger.info(f'program-state:{self.program}')\n",
    "        logger.info(f'self.instr_ptr:{self.instr_ptr}')\n",
    "        op_code, param_modes = self.get_next_opcode_and_instr_modes()\n",
    "        \n",
    "        logger.info('getting params')\n",
    "        n_params = op_code_num_params[op_code]\n",
    "        params = self.program[self.instr_ptr+1:self.instr_ptr+1+n_params]\n",
    "        self.instr_ptr += n_params+1\n",
    "        logger.info(f'done getting params, params={params}')\n",
    "\n",
    "        logger.info('entering get_param_values')\n",
    "        param_values = get_param_values(param_modes, params, self.program)\n",
    "        logger.info(f'exited get_param_values, param_values={param_values}')\n",
    "\n",
    "        # param_values are not necessarilly accurate except for op_code 1 and 2,\n",
    "        # the logic was adjusted below to correct for this\n",
    "        if op_code == 1:\n",
    "            self.program[params[2]] = param_values[0] + param_values[1]\n",
    "        elif op_code == 2:\n",
    "            self.program[params[2]] = param_values[0] * param_values[1]\n",
    "        elif op_code == 3:\n",
    "            self.program[params[0]] = self.input_queue.pop(0)\n",
    "        elif op_code == 4:\n",
    "            self.output_queue.append(self.program[params[0]])\n",
    "        elif op_code == 5:\n",
    "            if param_values[0] != 0:\n",
    "                self.instr_ptr = param_values[1]\n",
    "        elif op_code == 6:\n",
    "            if param_values[0] == 0:\n",
    "                self.instr_ptr = param_values[1]\n",
    "        elif op_code == 7:\n",
    "            if param_values[0] < param_values[1]:\n",
    "                self.program[params[2]] = 1\n",
    "            else:\n",
    "                self.program[params[2]] = 0\n",
    "        elif op_code == 8:\n",
    "            if param_values[0] == param_values[1]:\n",
    "                self.program[params[2]] = 1\n",
    "            else:\n",
    "                self.program[params[2]] = 0\n",
    "        elif op_code == 99:\n",
    "            self.stopped = True\n",
    "            \n",
    "        logger.info(f'post_op program-state:{self.program}')\n",
    "        logger.info(f'self.instr_ptr:{self.instr_ptr}')\n",
    "        logger.info('\\n')\n",
    "        return op_code"
   ]
  },
  {
   "cell_type": "code",
   "execution_count": 9,
   "metadata": {},
   "outputs": [],
   "source": [
    "test1 = '3,26,1001,26,-4,26,3,27,1002,27,2,27,1,27,26,27,4,27,1001,28,-1,28,1005,28,6,99,0,0,5'\n",
    "test2 = '3,52,1001,52,-5,52,3,53,1,52,56,54,1007,54,5,55,1005,55,26,1001,54,-5,54,1105,1,12,1,53,54,53,1008,54,0,55,1001,55,1,55,2,53,55,53,4,53,1001,56,-1,56,1005,56,6,99,0,0,0,0,10'\n",
    "program = main_program\n",
    "program = [int(i) for i in program.split(',')]"
   ]
  },
  {
   "cell_type": "code",
   "execution_count": 12,
   "metadata": {},
   "outputs": [
    {
     "name": "stdout",
     "output_type": "stream",
     "text": [
      "0 17485553\n",
      "6 18013440\n",
      "24 25932499\n",
      "30 34908883\n",
      "32 34909445\n",
      "54 35960544\n",
      "56 35961106\n"
     ]
    },
    {
     "data": {
      "text/plain": [
       "35961106"
      ]
     },
     "execution_count": 12,
     "metadata": {},
     "output_type": "execute_result"
    }
   ],
   "source": [
    "phase_orderings = itertools.permutations([9,8,7,6,5])\n",
    "\n",
    "max_out = -np.pi\n",
    "for j, phase_setting_ordering in enumerate(phase_orderings):\n",
    "    in_queues = []\n",
    "    for i, phase in enumerate(phase_setting_ordering):\n",
    "        if i == 0:\n",
    "            in_queues.append([phase, 0])\n",
    "        else:\n",
    "            in_queues.append([phase])\n",
    "    out_queues = in_queues[1:]+[in_queues[0]]\n",
    "\n",
    "    amplifier_names = 'abcde'\n",
    "    amps = []\n",
    "    for name, in_queue, out_queue in zip(amplifier_names, in_queues, out_queues):\n",
    "        amps.append(amplifier(name, program, in_queue, out_queue))\n",
    "\n",
    "    continue_ = True\n",
    "    while continue_:\n",
    "        for amp in amps:\n",
    "            amp.run_until_inputop_and_empty_input_queue_or_end_of_program()\n",
    "            if amp.name == 'e' and amp.stopped is True:\n",
    "                continue_ = False\n",
    "    out = amps[-1].output_queue[0]\n",
    "    if out > max_out:\n",
    "        max_out = out\n",
    "        print(j, max_out)\n",
    "max_out"
   ]
  }
 ],
 "metadata": {
  "kernelspec": {
   "display_name": "Python 3",
   "language": "python",
   "name": "python3"
  },
  "language_info": {
   "codemirror_mode": {
    "name": "ipython",
    "version": 3
   },
   "file_extension": ".py",
   "mimetype": "text/x-python",
   "name": "python",
   "nbconvert_exporter": "python",
   "pygments_lexer": "ipython3",
   "version": "3.7.3"
  }
 },
 "nbformat": 4,
 "nbformat_minor": 4
}
