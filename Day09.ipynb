{
 "cells": [
  {
   "cell_type": "markdown",
   "metadata": {},
   "source": [
    "# Day 09"
   ]
  },
  {
   "cell_type": "code",
   "execution_count": 2,
   "metadata": {},
   "outputs": [],
   "source": [
    "import numpy as np\n",
    "import itertools"
   ]
  },
  {
   "cell_type": "code",
   "execution_count": 3,
   "metadata": {},
   "outputs": [],
   "source": [
    "main_program = '1102,34463338,34463338,63,1007,63,34463338,63,1005,63,53,1102,3,1,1000,109,988,209,12,9,1000,209,6,209,3,203,0,1008,1000,1,63,1005,63,65,1008,1000,2,63,1005,63,904,1008,1000,0,63,1005,63,58,4,25,104,0,99,4,0,104,0,99,4,17,104,0,99,0,0,1102,521,1,1028,1101,0,36,1000,1102,30,1,1005,1101,21,0,1013,1101,26,0,1006,1102,31,1,1017,1101,24,0,1007,1101,0,1,1021,1102,27,1,1019,1101,23,0,1010,1101,0,38,1012,1102,35,1,1001,1101,25,0,1003,1102,20,1,1004,1101,0,37,1009,1101,424,0,1023,1102,39,1,1008,1102,406,1,1027,1102,1,413,1026,1101,0,29,1002,1102,1,0,1020,1102,34,1,1014,1102,1,28,1018,1102,1,33,1011,1102,300,1,1025,1102,1,22,1015,1102,305,1,1024,1101,32,0,1016,1102,427,1,1022,1101,512,0,1029,109,14,1205,6,197,1001,64,1,64,1106,0,199,4,187,1002,64,2,64,109,-18,1207,8,19,63,1005,63,215,1105,1,221,4,205,1001,64,1,64,1002,64,2,64,109,10,1208,-1,28,63,1005,63,237,1106,0,243,4,227,1001,64,1,64,1002,64,2,64,109,-2,2102,1,0,63,1008,63,22,63,1005,63,263,1105,1,269,4,249,1001,64,1,64,1002,64,2,64,109,11,21107,40,39,0,1005,1015,289,1001,64,1,64,1106,0,291,4,275,1002,64,2,64,109,9,2105,1,0,4,297,1105,1,309,1001,64,1,64,1002,64,2,64,109,-13,2101,0,-5,63,1008,63,25,63,1005,63,329,1105,1,335,4,315,1001,64,1,64,1002,64,2,64,109,1,1206,8,353,4,341,1001,64,1,64,1105,1,353,1002,64,2,64,109,3,2108,37,-6,63,1005,63,375,4,359,1001,64,1,64,1106,0,375,1002,64,2,64,109,-16,1207,2,36,63,1005,63,397,4,381,1001,64,1,64,1105,1,397,1002,64,2,64,109,28,2106,0,0,1001,64,1,64,1106,0,415,4,403,1002,64,2,64,109,-3,2105,1,-1,1106,0,433,4,421,1001,64,1,64,1002,64,2,64,109,-12,2108,25,-6,63,1005,63,449,1105,1,455,4,439,1001,64,1,64,1002,64,2,64,109,-19,1202,8,1,63,1008,63,38,63,1005,63,479,1001,64,1,64,1105,1,481,4,461,1002,64,2,64,109,14,2107,25,0,63,1005,63,497,1105,1,503,4,487,1001,64,1,64,1002,64,2,64,109,24,2106,0,-3,4,509,1001,64,1,64,1105,1,521,1002,64,2,64,109,-20,1208,-2,37,63,1005,63,543,4,527,1001,64,1,64,1106,0,543,1002,64,2,64,109,7,21102,41,1,0,1008,1018,43,63,1005,63,563,1105,1,569,4,549,1001,64,1,64,1002,64,2,64,109,-7,1205,10,587,4,575,1001,64,1,64,1106,0,587,1002,64,2,64,109,-11,1202,5,1,63,1008,63,30,63,1005,63,609,4,593,1106,0,613,1001,64,1,64,1002,64,2,64,109,4,1201,5,0,63,1008,63,34,63,1005,63,637,1001,64,1,64,1105,1,639,4,619,1002,64,2,64,109,12,1206,5,651,1105,1,657,4,645,1001,64,1,64,1002,64,2,64,109,9,21101,42,0,-7,1008,1018,39,63,1005,63,677,1105,1,683,4,663,1001,64,1,64,1002,64,2,64,109,-2,21101,43,0,-8,1008,1015,43,63,1005,63,705,4,689,1106,0,709,1001,64,1,64,1002,64,2,64,109,-25,2107,38,10,63,1005,63,727,4,715,1106,0,731,1001,64,1,64,1002,64,2,64,109,7,2102,1,2,63,1008,63,24,63,1005,63,757,4,737,1001,64,1,64,1105,1,757,1002,64,2,64,109,-13,1201,10,0,63,1008,63,29,63,1005,63,779,4,763,1105,1,783,1001,64,1,64,1002,64,2,64,109,30,21108,44,41,-3,1005,1019,803,1001,64,1,64,1106,0,805,4,789,1002,64,2,64,109,-2,21102,45,1,-7,1008,1013,45,63,1005,63,827,4,811,1105,1,831,1001,64,1,64,1002,64,2,64,109,-16,21107,46,47,7,1005,1011,849,4,837,1106,0,853,1001,64,1,64,1002,64,2,64,109,9,21108,47,47,0,1005,1013,875,4,859,1001,64,1,64,1106,0,875,1002,64,2,64,109,-10,2101,0,2,63,1008,63,30,63,1005,63,901,4,881,1001,64,1,64,1105,1,901,4,64,99,21102,1,27,1,21102,1,915,0,1106,0,922,21201,1,51805,1,204,1,99,109,3,1207,-2,3,63,1005,63,964,21201,-2,-1,1,21101,942,0,0,1106,0,922,22101,0,1,-1,21201,-2,-3,1,21101,0,957,0,1105,1,922,22201,1,-1,-2,1105,1,968,21201,-2,0,-2,109,-3,2105,1,0'"
   ]
  },
  {
   "cell_type": "code",
   "execution_count": 4,
   "metadata": {},
   "outputs": [],
   "source": [
    "import logging\n",
    "from pathlib import Path\n",
    "import os\n",
    "# create logger with 'spam_application'\n",
    "logger = logging.getLogger('spam_application')\n",
    "logger.setLevel(logging.DEBUG)\n",
    "\n",
    "# delete log if already exists\n",
    "log_path = Path('spam.log')\n",
    "if log_path.exists():\n",
    "    os.remove(log_path)\n",
    "\n",
    "# create file handler which logs even debug messages\n",
    "fh = logging.FileHandler(log_path)\n",
    "fh.setLevel(logging.DEBUG)\n",
    "# create console handler with a higher log level\n",
    "ch = logging.StreamHandler()\n",
    "ch.setLevel(logging.ERROR)\n",
    "# create formatter and add it to the handlers\n",
    "formatter = logging.Formatter('%(asctime)s - %(name)s - %(levelname)s - %(message)s')\n",
    "fh.setFormatter(formatter)\n",
    "ch.setFormatter(formatter)\n",
    "# add the handlers to the logger\n",
    "logger.addHandler(fh)\n",
    "logger.addHandler(ch)"
   ]
  },
  {
   "cell_type": "markdown",
   "metadata": {},
   "source": [
    "# day09"
   ]
  },
  {
   "cell_type": "code",
   "execution_count": 5,
   "metadata": {},
   "outputs": [],
   "source": [
    "op_code_num_params = {  1: 3,  # add next two numbers, store according to 3rd param\n",
    "                        2: 3,  # multiply next two numbers, store according to 3rd param\n",
    "                        3: 1,  # takes integer and stores it at address given by only parameter (1 param)\n",
    "                        4: 1,  # outputs the value at the address of its only parameter (1 param)\n",
    "                        5: 2,  # jump-if-true: if the first parameter is non-zero, it sets the instruction pointer to the value from the second parameter.\n",
    "                        6: 2,  # jump-if-false:\n",
    "                        7: 3,  # less than: if the first parameter is less than the second parameter, it stores 1 in the position given by the third parameter. Otherwise, it stores 0.\n",
    "                        8: 3,  # equals: if the first parameter is equal to the second parameter, it stores 1 in the position given by the third parameter. Otherwise, it stores 0.\n",
    "                        9: 1,  # adjust relative base by the paramter value (+=)\n",
    "                        99: 0} # ends program immediately (0 params)"
   ]
  },
  {
   "cell_type": "code",
   "execution_count": 6,
   "metadata": {},
   "outputs": [],
   "source": [
    "param_modes = {0, # position mode - look at memory location\n",
    "               1, # immediate mode - take value as written\n",
    "               2} # relative mode - take memory position from relative_base"
   ]
  },
  {
   "cell_type": "raw",
   "metadata": {},
   "source": [
    "param modes are specified in all but last two characters of op_codes\n",
    "1002,4,3,4 - 3 parameters, 02 is op code, 0 - 4  #working right to left \n",
    "                                          1 - 3\n",
    "                                          0 - 4 (0 is implied)"
   ]
  },
  {
   "cell_type": "code",
   "execution_count": 7,
   "metadata": {},
   "outputs": [],
   "source": [
    "def get_param_values(param_modes, params, program, relative_base):\n",
    "    param_values = []\n",
    "    for i, (mode, param) in enumerate(zip(param_modes, params)):\n",
    "        if mode == '0':\n",
    "            param_values.append(program[param])\n",
    "        elif mode == '1':\n",
    "            param_values.append(param)\n",
    "        elif mode == '2':\n",
    "            params[i] = relative_base+param\n",
    "            param_values.append(program[relative_base+param])\n",
    "    return param_values"
   ]
  },
  {
   "cell_type": "code",
   "execution_count": 8,
   "metadata": {},
   "outputs": [],
   "source": [
    "import copy"
   ]
  },
  {
   "cell_type": "code",
   "execution_count": 9,
   "metadata": {},
   "outputs": [],
   "source": [
    "class amplifier(object):\n",
    "    def __init__(self, name, program, input_queue=None, output_queue=None, extra_memory=0, copy=True):\n",
    "        self.name = name\n",
    "        if copy:\n",
    "            self.program = copy.copy(program) + [0]*extra_memory\n",
    "        else:\n",
    "            self.program = program + [0]*extra_memory\n",
    "        self.input_queue = input_queue\n",
    "        self.output_queue = output_queue\n",
    "        self.instr_ptr = 0\n",
    "        self.stopped = False\n",
    "        self.relative_base = 0\n",
    "        \n",
    "    def run_until_inputop_and_empty_input_queue_or_end_of_program(self):\n",
    "        continue_ = True\n",
    "        next_opcode, _ = self.get_next_opcode_and_instr_modes()\n",
    "        while not (next_opcode == 3 and len(self.input_queue) == 0):\n",
    "            op_code = self.run_single_instruction()\n",
    "            if op_code == 99:\n",
    "                print('end of program')\n",
    "                return\n",
    "            next_opcode, _ = self.get_next_opcode_and_instr_modes()\n",
    "        return\n",
    "            \n",
    "    \n",
    "    def get_next_opcode_and_instr_modes(self):\n",
    "        mode_and_op_code = int(self.program[self.instr_ptr])\n",
    "    \n",
    "        # logger.info('reading op_code')\n",
    "        op_code = mode_and_op_code % 100\n",
    "        # logger.info(f'op_code={op_code}')\n",
    "        \n",
    "        # logger.info('getting param_modes')\n",
    "        param_modes = str(mode_and_op_code // 100).zfill(op_code_num_params[op_code])[::-1] # left to right now\n",
    "        # logger.info(f'exited param_modes, param_modes = {param_modes}')\n",
    "        return op_code, param_modes\n",
    "\n",
    "        \n",
    "    def run_single_instruction(self):\n",
    "        # logger.info(f'self.name:{self.name}')\n",
    "        # logger.info(f'program-state:{self.program}')\n",
    "        # logger.info(f'self.instr_ptr:{self.instr_ptr}')\n",
    "        # logger.info(f'relative_base:{self.relative_base}')\n",
    "        op_code, param_modes = self.get_next_opcode_and_instr_modes()\n",
    "        \n",
    "        # logger.info('getting params')\n",
    "        n_params = op_code_num_params[op_code]\n",
    "        params = self.program[self.instr_ptr+1:self.instr_ptr+1+n_params]\n",
    "        self.instr_ptr += n_params+1\n",
    "        # logger.info(f'done getting params, params={params}')\n",
    "\n",
    "        # logger.info('entering get_param_values')\n",
    "        param_values = get_param_values(param_modes, params, self.program, self.relative_base)\n",
    "        # logger.info(f'exited get_param_values, param_values={param_values}')\n",
    "\n",
    "        # param_values are not necessarilly accurate except for op_code 1 and 2,\n",
    "        # the logic was adjusted below to correct for this\n",
    "        if op_code == 1:\n",
    "            self.program[params[2]] = param_values[0] + param_values[1]\n",
    "        elif op_code == 2:\n",
    "            self.program[params[2]] = param_values[0] * param_values[1]\n",
    "        elif op_code == 3:\n",
    "#             if param_modes == '2':\n",
    "#                 self.program[self.relative_base+params[0]] = self.input_queue.pop(0)\n",
    "#             else:\n",
    "#                 print(param_modes)\n",
    "            self.program[params[0]] = self.input_queue.pop(0)\n",
    "        elif op_code == 4:\n",
    "            self.output_queue.append(param_values[0])\n",
    "        elif op_code == 5:\n",
    "            if param_values[0] != 0:\n",
    "                self.instr_ptr = param_values[1]\n",
    "        elif op_code == 6:\n",
    "            if param_values[0] == 0:\n",
    "                self.instr_ptr = param_values[1]\n",
    "        elif op_code == 7:\n",
    "            if param_values[0] < param_values[1]:\n",
    "                self.program[params[2]] = 1\n",
    "            else:\n",
    "                self.program[params[2]] = 0\n",
    "        elif op_code == 8:\n",
    "            if param_values[0] == param_values[1]:\n",
    "                self.program[params[2]] = 1\n",
    "            else:\n",
    "                self.program[params[2]] = 0\n",
    "        elif op_code == 9:\n",
    "            self.relative_base += param_values[0]\n",
    "        elif op_code == 99:\n",
    "            self.stopped = True\n",
    "            \n",
    "        # logger.info(f'post_op program-state:{self.program}')\n",
    "        # logger.info(f'self.instr_ptr:{self.instr_ptr}')\n",
    "        # logger.info(f'self.output_queue:{self.output_queue}')\n",
    "        # logger.info('\\n')\n",
    "        return op_code"
   ]
  },
  {
   "cell_type": "code",
   "execution_count": 14,
   "metadata": {},
   "outputs": [],
   "source": [
    "test1 = '3,26,1001,26,-4,26,3,27,1002,27,2,27,1,27,26,27,4,27,1001,28,-1,28,1005,28,6,99,0,0,5'\n",
    "test2 = '3,52,1001,52,-5,52,3,53,1,52,56,54,1007,54,5,55,1005,55,26,1001,54,-5,54,1105,1,12,1,53,54,53,1008,54,0,55,1001,55,1,55,2,53,55,53,4,53,1001,56,-1,56,1005,56,6,99,0,0,0,0,10'\n",
    "d9test1 = '109,1,204,-1,1001,100,1,100,1008,100,16,101,1006,101,0,99'\n",
    "d9test2 = '1102,34915192,34915192,7,4,7,99,0'\n",
    "d9test3 = '104,1125899906842624,99'\n",
    "program = main_program\n",
    "program = [int(i) for i in program.split(',')]"
   ]
  },
  {
   "cell_type": "code",
   "execution_count": 15,
   "metadata": {},
   "outputs": [],
   "source": [
    "my_out = []\n",
    "amp = amplifier('myamp', program, [2], my_out, extra_memory=200)"
   ]
  },
  {
   "cell_type": "code",
   "execution_count": 16,
   "metadata": {},
   "outputs": [
    {
     "name": "stdout",
     "output_type": "stream",
     "text": [
      "end of program\n",
      "[73110]\n",
      "CPU times: user 1.01 s, sys: 0 ns, total: 1.01 s\n",
      "Wall time: 1.01 s\n"
     ]
    }
   ],
   "source": [
    "%%time\n",
    "amp.run_until_inputop_and_empty_input_queue_or_end_of_program()\n",
    "print(my_out)"
   ]
  },
  {
   "cell_type": "code",
   "execution_count": null,
   "metadata": {},
   "outputs": [],
   "source": []
  }
 ],
 "metadata": {
  "kernelspec": {
   "display_name": "Python 3",
   "language": "python",
   "name": "python3"
  },
  "language_info": {
   "codemirror_mode": {
    "name": "ipython",
    "version": 3
   },
   "file_extension": ".py",
   "mimetype": "text/x-python",
   "name": "python",
   "nbconvert_exporter": "python",
   "pygments_lexer": "ipython3",
   "version": "3.7.3"
  }
 },
 "nbformat": 4,
 "nbformat_minor": 4
}
