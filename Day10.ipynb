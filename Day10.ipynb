{
 "cells": [
  {
   "cell_type": "markdown",
   "metadata": {},
   "source": [
    "# Day 10"
   ]
  },
  {
   "cell_type": "code",
   "execution_count": 1,
   "metadata": {},
   "outputs": [],
   "source": [
    "import numpy as np"
   ]
  },
  {
   "cell_type": "code",
   "execution_count": 52,
   "metadata": {},
   "outputs": [],
   "source": [
    "input_data = \\\n",
    "'''.#..#..#..#...#..#...###....##.#....\n",
    ".#.........#.#....#...........####.#\n",
    "#..##.##.#....#...#.#....#..........\n",
    "......###..#.#...............#.....#\n",
    "......#......#....#..##....##.......\n",
    "....................#..............#\n",
    "..#....##...#.....#..#..........#..#\n",
    "..#.#.....#..#..#..#.#....#.###.##.#\n",
    ".........##.#..#.......#.........#..\n",
    ".##..#..##....#.#...#.#.####.....#..\n",
    ".##....#.#....#.......#......##....#\n",
    "..#...#.#...##......#####..#......#.\n",
    "##..#...#.....#...###..#..........#.\n",
    "......##..#.##..#.....#.......##..#.\n",
    "#..##..#..#.....#.#.####........#.#.\n",
    "#......#..........###...#..#....##..\n",
    ".......#...#....#.##.#..##......#...\n",
    ".............##.......#.#.#..#...##.\n",
    "..#..##...#...............#..#......\n",
    "##....#...#.#....#..#.....##..##....\n",
    ".#...##...........#..#..............\n",
    ".............#....###...#.##....#.#.\n",
    "#..#.#..#...#....#.....#............\n",
    "....#.###....##....##...............\n",
    "....#..........#..#..#.......#.#....\n",
    "#..#....##.....#............#..#....\n",
    "...##.............#...#.....#..###..\n",
    "...#.......#........###.##..#..##.##\n",
    ".#.##.#...##..#.#........#.....#....\n",
    "#......#....#......#....###.#.....#.\n",
    "......#.##......#...#.#.##.##...#...\n",
    "..#...#.#........#....#...........#.\n",
    "......#.##..#..#.....#......##..#...\n",
    "..##.........#......#..##.#.#.......\n",
    ".#....#..#....###..#....##..........\n",
    "..............#....##...#.####...##.'''"
   ]
  },
  {
   "cell_type": "code",
   "execution_count": 69,
   "metadata": {},
   "outputs": [],
   "source": [
    "sample_data = '''.#..##.###...#######\n",
    "##.############..##.\n",
    ".#.######.########.#\n",
    ".###.#######.####.#.\n",
    "#####.##.#.##.###.##\n",
    "..#####..#.#########\n",
    "####################\n",
    "#.####....###.#.#.##\n",
    "##.#################\n",
    "#####.##.###..####..\n",
    "..######..##.#######\n",
    "####.##.####...##..#\n",
    ".#####..#.######.###\n",
    "##...#.##########...\n",
    "#.##########.#######\n",
    ".####.#.###.###.#.##\n",
    "....##.##.###..#####\n",
    ".#.#.###########.###\n",
    "#.#.#.#####.####.###\n",
    "###.##.####.##.#..##'''"
   ]
  },
  {
   "cell_type": "code",
   "execution_count": 287,
   "metadata": {},
   "outputs": [],
   "source": [
    "# data = input_data\n",
    "data = input_data\n",
    "\n",
    "asteroid_coords = []\n",
    "for y, line in enumerate(data.split('\\n')):\n",
    "    for x, char in enumerate(line):\n",
    "        if char == '#':\n",
    "            asteroid_coords.append((x, y))"
   ]
  },
  {
   "cell_type": "code",
   "execution_count": 288,
   "metadata": {},
   "outputs": [],
   "source": [
    "results = []\n",
    "for asteroid_pt in asteroid_coords:\n",
    "    results.append(set())\n",
    "    x1, y1 = asteroid_pt\n",
    "    for other_pt in asteroid_coords:\n",
    "        x2, y2 = other_pt\n",
    "        if x1 == x2 and y1 == y2:\n",
    "            continue\n",
    "        if x2 == x1:\n",
    "            m = np.inf\n",
    "            sign = y2 > y1\n",
    "            b = np.nan\n",
    "        else:\n",
    "            m = (y2-y1)/(x2-x1)\n",
    "            sign = x2 > x1\n",
    "            b = y1-m*x1\n",
    "        results[-1].add((m, b, sign))"
   ]
  },
  {
   "cell_type": "code",
   "execution_count": 289,
   "metadata": {},
   "outputs": [
    {
     "name": "stdout",
     "output_type": "stream",
     "text": [
      "(17, 22)\n"
     ]
    },
    {
     "data": {
      "text/plain": [
       "276"
      ]
     },
     "execution_count": 289,
     "metadata": {},
     "output_type": "execute_result"
    }
   ],
   "source": [
    "station_coords = asteroid_coords[np.asarray([len(r) for r in results]).argmax()]\n",
    "print(station_coords)\n",
    "np.asarray([len(r) for r in results]).max()"
   ]
  },
  {
   "cell_type": "markdown",
   "metadata": {},
   "source": [
    "## part 2"
   ]
  },
  {
   "cell_type": "code",
   "execution_count": 291,
   "metadata": {},
   "outputs": [],
   "source": [
    "from sortedcontainers import SortedList, SortedDict"
   ]
  },
  {
   "cell_type": "code",
   "execution_count": 292,
   "metadata": {},
   "outputs": [],
   "source": [
    "x1, y1 = station_coords\n",
    "def neg_dist_sq(x2y2):\n",
    "    x2, y2 = x2y2\n",
    "    return -((x1-x2)**2 + (y1-y2)**2)"
   ]
  },
  {
   "cell_type": "code",
   "execution_count": 306,
   "metadata": {},
   "outputs": [
    {
     "name": "stdout",
     "output_type": "stream",
     "text": [
      "i 0\n"
     ]
    }
   ],
   "source": [
    "import operator\n",
    "\n",
    "next_results = SortedDict(operator.itemgetter(0, 1))\n",
    "for other_pt in asteroid_coords:\n",
    "    x2, y2 = other_pt\n",
    "    if x1 == x2 and y1 == y2:\n",
    "        continue\n",
    "    if x2 == x1:\n",
    "        neg_m = -np.inf\n",
    "        neg_sign = not (y2 < y1)\n",
    "    else:\n",
    "        neg_m = (y2-y1)/(x2-x1)\n",
    "        neg_sign = not (x2 > x1)\n",
    "    if (neg_sign, neg_m) in next_results:\n",
    "        next_results[(neg_sign, neg_m)].add((x2, y2))\n",
    "    else:\n",
    "        next_results[(neg_sign, neg_m)] = SortedList([(x2, y2)], neg_dist_sq)\n",
    "\n",
    "pop_order = []\n",
    "i = 0\n",
    "n_iter = 200\n",
    "while i < n_iter:\n",
    "    print('i', i)\n",
    "    for key in next_results.copy(): # have to do .copy so that you don't modify object during iteration of same object\n",
    "        if len(next_results[key]) == 1:\n",
    "            pop_crd = next_results.pop(key).pop()\n",
    "            pop_order.append(pop_crd)\n",
    "        else:\n",
    "            pop_crd = next_results[key].pop()\n",
    "            pop_order.append(pop_crd)\n",
    "        i = i + 1\n",
    "        if i >= n_iter:\n",
    "            break"
   ]
  },
  {
   "cell_type": "code",
   "execution_count": 307,
   "metadata": {},
   "outputs": [],
   "source": [
    "from copy import copy"
   ]
  },
  {
   "cell_type": "code",
   "execution_count": 308,
   "metadata": {},
   "outputs": [
    {
     "name": "stdout",
     "output_type": "stream",
     "text": [
      "(17, 19)\n",
      "(18, 1)\n",
      "(18, 2)\n",
      "(20, 2)\n",
      "(20, 11)\n",
      "(29, 7)\n",
      "(28, 25)\n",
      "(1, 19)\n",
      "(13, 21)\n"
     ]
    }
   ],
   "source": [
    "for i in [j-1 for j in [1,2,3,10,20,50,100,199,200]]:\n",
    "    print(pop_order[i])"
   ]
  },
  {
   "cell_type": "raw",
   "metadata": {},
   "source": [
    "1321"
   ]
  }
 ],
 "metadata": {
  "kernelspec": {
   "display_name": "Python 3",
   "language": "python",
   "name": "python3"
  },
  "language_info": {
   "codemirror_mode": {
    "name": "ipython",
    "version": 3
   },
   "file_extension": ".py",
   "mimetype": "text/x-python",
   "name": "python",
   "nbconvert_exporter": "python",
   "pygments_lexer": "ipython3",
   "version": "3.7.3"
  }
 },
 "nbformat": 4,
 "nbformat_minor": 4
}
