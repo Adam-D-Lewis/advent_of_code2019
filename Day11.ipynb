{
 "cells": [
  {
   "cell_type": "markdown",
   "metadata": {},
   "source": [
    "# Day 11"
   ]
  },
  {
   "cell_type": "markdown",
   "metadata": {},
   "source": [
    "- All of the panels are currently black.\n",
    "- provide 0 if the robot is over a black panel or 1 if the robot is over a white panel. Then, the program will output two values:\n",
    "    - First, it will output a value indicating the color to paint the panel the robot is over: 0 means to paint the panel black, and 1 means to paint the panel white.\n",
    "    - Second, it will output a value indicating the direction the robot should turn: 0 means it should turn left 90 degrees, and 1 means it should turn right 90 degrees."
   ]
  },
  {
   "cell_type": "code",
   "execution_count": 76,
   "metadata": {},
   "outputs": [],
   "source": [
    "main_program = '3,8,1005,8,310,1106,0,11,0,0,0,104,1,104,0,3,8,1002,8,-1,10,101,1,10,10,4,10,1008,8,0,10,4,10,1001,8,0,29,1,2,11,10,1,1101,2,10,2,1008,18,10,2,106,3,10,3,8,1002,8,-1,10,1001,10,1,10,4,10,1008,8,1,10,4,10,102,1,8,67,2,105,15,10,3,8,1002,8,-1,10,101,1,10,10,4,10,1008,8,0,10,4,10,1001,8,0,93,2,1001,16,10,3,8,102,-1,8,10,1001,10,1,10,4,10,1008,8,1,10,4,10,102,1,8,119,3,8,1002,8,-1,10,1001,10,1,10,4,10,1008,8,1,10,4,10,101,0,8,141,2,7,17,10,1,1103,16,10,3,8,1002,8,-1,10,101,1,10,10,4,10,108,0,8,10,4,10,102,1,8,170,3,8,1002,8,-1,10,1001,10,1,10,4,10,1008,8,1,10,4,10,1002,8,1,193,1,7,15,10,2,105,13,10,1006,0,92,1006,0,99,3,8,1002,8,-1,10,101,1,10,10,4,10,108,1,8,10,4,10,101,0,8,228,1,3,11,10,1006,0,14,1006,0,71,3,8,1002,8,-1,10,101,1,10,10,4,10,1008,8,0,10,4,10,101,0,8,261,2,2,2,10,1006,0,4,3,8,102,-1,8,10,101,1,10,10,4,10,108,0,8,10,4,10,101,0,8,289,101,1,9,9,1007,9,1049,10,1005,10,15,99,109,632,104,0,104,1,21101,0,387240009756,1,21101,327,0,0,1105,1,431,21101,0,387239486208,1,21102,1,338,0,1106,0,431,3,10,104,0,104,1,3,10,104,0,104,0,3,10,104,0,104,1,3,10,104,0,104,1,3,10,104,0,104,0,3,10,104,0,104,1,21102,3224472579,1,1,21101,0,385,0,1106,0,431,21101,0,206253952003,1,21102,396,1,0,1105,1,431,3,10,104,0,104,0,3,10,104,0,104,0,21102,709052072296,1,1,21102,419,1,0,1105,1,431,21102,1,709051962212,1,21102,430,1,0,1106,0,431,99,109,2,21202,-1,1,1,21102,1,40,2,21102,462,1,3,21102,452,1,0,1105,1,495,109,-2,2105,1,0,0,1,0,0,1,109,2,3,10,204,-1,1001,457,458,473,4,0,1001,457,1,457,108,4,457,10,1006,10,489,1101,0,0,457,109,-2,2105,1,0,0,109,4,2102,1,-1,494,1207,-3,0,10,1006,10,512,21101,0,0,-3,22101,0,-3,1,21202,-2,1,2,21102,1,1,3,21101,531,0,0,1105,1,536,109,-4,2106,0,0,109,5,1207,-3,1,10,1006,10,559,2207,-4,-2,10,1006,10,559,21202,-4,1,-4,1105,1,627,22102,1,-4,1,21201,-3,-1,2,21202,-2,2,3,21102,1,578,0,1105,1,536,21202,1,1,-4,21102,1,1,-1,2207,-4,-2,10,1006,10,597,21101,0,0,-1,22202,-2,-1,-2,2107,0,-3,10,1006,10,619,21201,-1,0,1,21102,1,619,0,106,0,494,21202,-2,-1,-2,22201,-4,-2,-4,109,-5,2106,0,0'"
   ]
  },
  {
   "cell_type": "code",
   "execution_count": 77,
   "metadata": {},
   "outputs": [],
   "source": [
    "from collections import defaultdict"
   ]
  },
  {
   "cell_type": "code",
   "execution_count": 78,
   "metadata": {},
   "outputs": [],
   "source": [
    "from intcode_computer import Computer"
   ]
  },
  {
   "cell_type": "raw",
   "metadata": {},
   "source": [
    "input = color of panel\n",
    "output = paint white, turn right"
   ]
  },
  {
   "cell_type": "code",
   "execution_count": 79,
   "metadata": {},
   "outputs": [],
   "source": [
    "my_in = [] # current_panel is white\n",
    "my_out = []\n",
    "comp = Computer('painter', main_program, input_queue=my_in, output_queue=my_out, extra_memory=1000, copy_program=True)\n",
    "# comp.run_until_inputop_and_empty_input_queue_or_end_of_program()"
   ]
  },
  {
   "cell_type": "markdown",
   "metadata": {},
   "source": [
    "- give input \n",
    "- get output\n",
    "- paint tile (update dict)\n",
    "- turn\n",
    "- move forwards"
   ]
  },
  {
   "cell_type": "code",
   "execution_count": 80,
   "metadata": {},
   "outputs": [
    {
     "name": "stdout",
     "output_type": "stream",
     "text": [
      "[1]\n",
      "end of program\n",
      "ret_code: -1\n",
      "len(iswhite_tile_map) 249\n"
     ]
    }
   ],
   "source": [
    "pos = (0, 0)\n",
    "iswhite_tile_map = defaultdict(lambda: 0)\n",
    "orientations = ['u', 'r', 'd', 'l']\n",
    "\n",
    "my_in.append(1) # current tile is black\n",
    "print(my_in)\n",
    "\n",
    "orientation_index = 0\n",
    "continue_ = True\n",
    "while continue_:\n",
    "    ret_code = comp.run_until_inputop_and_empty_input_queue_or_end_of_program()\n",
    "    if ret_code == -1:\n",
    "        print(f'ret_code: {ret_code}')\n",
    "        continue_ = False\n",
    "    \n",
    "    turn_right = my_out.pop()\n",
    "    paint_white = my_out.pop()\n",
    "#     paint_white, turn_right = my_out.pop()\n",
    "    \n",
    "    iswhite_tile_map[pos] = paint_white\n",
    "\n",
    "    # update position\n",
    "    if turn_right:\n",
    "        orientation_index += 1\n",
    "    else:\n",
    "        orientation_index -= 1\n",
    "    if orientation_index < 0:\n",
    "        orientation_index += len(orientations)\n",
    "    elif orientation_index == len(orientations):\n",
    "        orientation_index -= len(orientations)\n",
    "\n",
    "    if orientations[orientation_index] == 'u':\n",
    "        pos = (pos[0], pos[1]+1)\n",
    "    elif orientations[orientation_index] == 'r':\n",
    "        pos = (pos[0]+1, pos[1])\n",
    "    elif orientations[orientation_index] == 'd':\n",
    "        pos = (pos[0], pos[1]-1)\n",
    "    elif orientations[orientation_index] == 'l':\n",
    "        pos = (pos[0]-1, pos[1])\n",
    "    \n",
    "    # update paint color    \n",
    "    if ret_code != -1:\n",
    "        my_in.append(iswhite_tile_map[pos])\n",
    "\n",
    "print('len(iswhite_tile_map)', len(iswhite_tile_map))"
   ]
  },
  {
   "cell_type": "code",
   "execution_count": 81,
   "metadata": {},
   "outputs": [],
   "source": [
    "import numpy as np"
   ]
  },
  {
   "cell_type": "code",
   "execution_count": 94,
   "metadata": {},
   "outputs": [],
   "source": [
    "arr = np.zeros((20, 50))\n",
    "for (x, y), is_white in iswhite_tile_map.items():\n",
    "    if is_white:\n",
    "        arr[y, x] = 255\n",
    "arr = np.roll(arr, shift=-1, axis=0)[::-1, ::]\n",
    "n = 10\n",
    "arr = np.kron(arr, np.ones((n,n)))"
   ]
  },
  {
   "cell_type": "code",
   "execution_count": 95,
   "metadata": {},
   "outputs": [],
   "source": [
    "from PIL import Image"
   ]
  },
  {
   "cell_type": "code",
   "execution_count": 96,
   "metadata": {},
   "outputs": [
    {
     "data": {
      "image/png": "[encoded data removed]",
      "text/plain": [
       "<PIL.Image.Image image mode=L size=500x200 at 0x7F67A7038FD0>"
      ]
     },
     "execution_count": 96,
     "metadata": {},
     "output_type": "execute_result"
    }
   ],
   "source": [
    "Image.fromarray(arr).convert('L')"
   ]
  },
  {
   "cell_type": "code",
   "execution_count": null,
   "metadata": {},
   "outputs": [],
   "source": []
  }
 ],
 "metadata": {
  "kernelspec": {
   "display_name": "Python 3",
   "language": "python",
   "name": "python3"
  },
  "language_info": {
   "codemirror_mode": {
    "name": "ipython",
    "version": 3
   },
   "file_extension": ".py",
   "mimetype": "text/x-python",
   "name": "python",
   "nbconvert_exporter": "python",
   "pygments_lexer": "ipython3",
   "version": "3.7.3"
  }
 },
 "nbformat": 4,
 "nbformat_minor": 4
}
