{
 "cells": [
  {
   "cell_type": "code",
   "execution_count": 2,
   "metadata": {},
   "outputs": [],
   "source": [
    "import numpy as np"
   ]
  },
  {
   "cell_type": "code",
   "execution_count": 3,
   "metadata": {},
   "outputs": [],
   "source": [
    "from itertools import combinations"
   ]
  },
  {
   "cell_type": "code",
   "execution_count": 4,
   "metadata": {},
   "outputs": [],
   "source": [
    "def update_velocity(moons):\n",
    "    p = moons[:, :3]\n",
    "    v = moons[:, 3:]\n",
    "    pairs = list(combinations(range(moons.shape[0]), 2))\n",
    "    for i,j in pairs:\n",
    "        signs = np.sign(p[i, :] - p[j, :])\n",
    "        v[i, :] -= signs\n",
    "        v[j, :] += signs"
   ]
  },
  {
   "cell_type": "code",
   "execution_count": 5,
   "metadata": {},
   "outputs": [],
   "source": [
    "def update_positions(moons):\n",
    "    p = moons[:, :3]\n",
    "    v = moons[:, 3:]\n",
    "    p += v"
   ]
  },
  {
   "cell_type": "code",
   "execution_count": 6,
   "metadata": {},
   "outputs": [],
   "source": [
    "def calcualte_total_energy(moons):\n",
    "    p = moons[:, :3]\n",
    "    v = moons[:, 3:]\n",
    "    PE = np.sum(np.abs(p), axis=1)\n",
    "    print(PE)\n",
    "    KE = np.sum(np.abs(v), axis=1)\n",
    "    print(KE)\n",
    "    return np.sum(PE * KE)"
   ]
  },
  {
   "cell_type": "code",
   "execution_count": 17,
   "metadata": {},
   "outputs": [
    {
     "name": "stdout",
     "output_type": "stream",
     "text": [
      "[[ 2  2  4 -3  4  3]\n",
      " [ 1 -7  5 -1 -3  1]\n",
      " [ 3 -9 -4  3 -2 -1]\n",
      " [ 2  1 -3  1  1 -3]]\n",
      "[ 8 13 16  6]\n",
      "[10  5  6  5]\n",
      "CPU times: user 26.2 s, sys: 38.9 ms, total: 26.2 s\n",
      "Wall time: 26.2 s\n"
     ]
    },
    {
     "data": {
      "text/plain": [
       "271"
      ]
     },
     "execution_count": 17,
     "metadata": {},
     "output_type": "execute_result"
    }
   ],
   "source": [
    "%%time\n",
    "# Initial conditions\n",
    "total_steps = int(1e6)\n",
    "moons = [[-1, 0, 2, 0, 0, 0],\n",
    "         [2, -10, -7, 0, 0, 0],\n",
    "         [4, -8, 8, 0, 0, 0],\n",
    "         [3, 5, -1, 0, 0, 0]]\n",
    "# moons = [[-8, -10, 0, 0, 0, 0],\n",
    "#          [5, 5, 10, 0, 0, 0],\n",
    "#          [2, -7, 3, 0, 0, 0],\n",
    "#          [9, -8, -3, 0, 0, 0]]\n",
    "# moons = [[-10, -10, -13, 0, 0, 0],\n",
    "#          [5, 5, -9, 0, 0, 0],\n",
    "#          [3, 8, -16, 0, 0, 0],\n",
    "#          [1, 3, -3, 0, 0, 0]]\n",
    "\n",
    "moons = np.asarray(moons)\n",
    "x_moons = moons[:, [0, 3]]\n",
    "y_moons = moons[:, [1, 4]]\n",
    "z_moons = moons[:, [2, 5]]\n",
    "\n",
    "for step_no in range(total_steps):\n",
    "    update_velocity(moons)\n",
    "    update_positions(moons)\n",
    "#     print('step_no: ', step_no)\n",
    "#     display(moons)\n",
    "#     print('----')\n",
    "print(moons)\n",
    "calcualte_total_energy(moons)"
   ]
  },
  {
   "cell_type": "code",
   "execution_count": null,
   "metadata": {},
   "outputs": [],
   "source": [
    "## Part 2 - how many steps til we get a repeat? (hint: > 1 trillion)"
   ]
  },
  {
   "cell_type": "code",
   "execution_count": 32,
   "metadata": {},
   "outputs": [],
   "source": [
    "def axis_update_velocity(moons):\n",
    "    p = moons[:, 0]\n",
    "    v = moons[:, 1]\n",
    "    pairs = list(combinations(range(moons.shape[0]), 2))\n",
    "    for i,j in pairs:\n",
    "        signs = np.sign(p[i] - p[j])\n",
    "        v[i] -= signs\n",
    "        v[j] += signs"
   ]
  },
  {
   "cell_type": "code",
   "execution_count": 33,
   "metadata": {},
   "outputs": [],
   "source": [
    "def axis_update_positions(moons):\n",
    "    p = moons[:, 0]\n",
    "    v = moons[:, 1]\n",
    "    p += v"
   ]
  },
  {
   "cell_type": "code",
   "execution_count": 56,
   "metadata": {},
   "outputs": [],
   "source": [
    "def check_single_axis(x_moons):\n",
    "    previous_x_steps = {}\n",
    "    i = -1\n",
    "    while True:\n",
    "        i += 1\n",
    "        if np.array_str(x_moons) in previous_x_steps:\n",
    "            break\n",
    "        previous_x_steps[np.array_str(x_moons)] = i\n",
    "        axis_update_velocity(x_moons)\n",
    "        axis_update_positions(x_moons)\n",
    "    return i, previous_x_steps[np.array_str(x_moons)]"
   ]
  },
  {
   "cell_type": "code",
   "execution_count": 62,
   "metadata": {},
   "outputs": [
    {
     "name": "stdout",
     "output_type": "stream",
     "text": [
      "(167624, 0) (231614, 0) (102356, 0)\n"
     ]
    }
   ],
   "source": [
    "# moons = [[-1, 0, 2, 0, 0, 0],\n",
    "#          [2, -10, -7, 0, 0, 0],\n",
    "#          [4, -8, 8, 0, 0, 0],\n",
    "#          [3, 5, -1, 0, 0, 0]]\n",
    "# moons = [[-8, -10, 0, 0, 0, 0],\n",
    "#          [5, 5, 10, 0, 0, 0],\n",
    "#          [2, -7, 3, 0, 0, 0],\n",
    "#          [9, -8, -3, 0, 0, 0]]\n",
    "moons = [[-10, -10, -13, 0, 0, 0],\n",
    "         [5, 5, -9, 0, 0, 0],\n",
    "         [3, 8, -16, 0, 0, 0],\n",
    "         [1, 3, -3, 0, 0, 0]]\n",
    "\n",
    "moons = np.asarray(moons)\n",
    "x_moons = moons[:, [0, 3]]\n",
    "y_moons = moons[:, [1, 4]]\n",
    "z_moons = moons[:, [2, 5]]\n",
    "\n",
    "xi = check_single_axis(x_moons)\n",
    "yi = check_single_axis(y_moons)\n",
    "zi = check_single_axis(z_moons)\n",
    "print(xi, yi, zi)"
   ]
  },
  {
   "cell_type": "code",
   "execution_count": 63,
   "metadata": {},
   "outputs": [
    {
     "data": {
      "text/plain": [
       "496734501382552"
      ]
     },
     "execution_count": 63,
     "metadata": {},
     "output_type": "execute_result"
    }
   ],
   "source": [
    "np.lcm.reduce([167624, 231614, 102356])"
   ]
  }
 ],
 "metadata": {
  "kernelspec": {
   "display_name": "Python 3",
   "language": "python",
   "name": "python3"
  },
  "language_info": {
   "codemirror_mode": {
    "name": "ipython",
    "version": 3
   },
   "file_extension": ".py",
   "mimetype": "text/x-python",
   "name": "python",
   "nbconvert_exporter": "python",
   "pygments_lexer": "ipython3",
   "version": "3.7.3"
  }
 },
 "nbformat": 4,
 "nbformat_minor": 4
}
