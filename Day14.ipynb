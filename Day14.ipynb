{
 "cells": [
  {
   "cell_type": "code",
   "execution_count": 22,
   "metadata": {},
   "outputs": [],
   "source": [
    "from itertools import chain\n",
    "from collections import defaultdict\n",
    "import math"
   ]
  },
  {
   "cell_type": "markdown",
   "metadata": {},
   "source": [
    "# Day 14"
   ]
  },
  {
   "cell_type": "code",
   "execution_count": 23,
   "metadata": {},
   "outputs": [],
   "source": [
    "# input_data = '''10 ORE => 10 A\n",
    "# 1 ORE => 1 B\n",
    "# 7 A, 1 B => 1 C\n",
    "# 7 A, 1 C => 1 D\n",
    "# 7 A, 1 D => 1 E\n",
    "# 7 A, 1 E => 1 FUEL'''"
   ]
  },
  {
   "cell_type": "code",
   "execution_count": 40,
   "metadata": {},
   "outputs": [],
   "source": [
    "# input_data = '''9 ORE => 2 A\n",
    "# 8 ORE => 3 B\n",
    "# 7 ORE => 5 C\n",
    "# 3 A, 4 B => 1 AB\n",
    "# 5 B, 7 C => 1 BC\n",
    "# 4 C, 1 A => 1 CA\n",
    "# 2 AB, 3 BC, 4 CA => 1 FUEL'''"
   ]
  },
  {
   "cell_type": "code",
   "execution_count": 41,
   "metadata": {},
   "outputs": [],
   "source": [
    "# input_data = '''157 ORE => 5 NZVS\n",
    "# 165 ORE => 6 DCFZ\n",
    "# 44 XJWVT, 5 KHKGT, 1 QDVJ, 29 NZVS, 9 GPVTF, 48 HKGWZ => 1 FUEL\n",
    "# 12 HKGWZ, 1 GPVTF, 8 PSHF => 9 QDVJ\n",
    "# 179 ORE => 7 PSHF\n",
    "# 177 ORE => 5 HKGWZ\n",
    "# 7 DCFZ, 7 PSHF => 2 XJWVT\n",
    "# 165 ORE => 2 GPVTF\n",
    "# 3 DCFZ, 7 NZVS, 5 HKGWZ, 10 PSHF => 8 KHKGT'''"
   ]
  },
  {
   "cell_type": "code",
   "execution_count": 42,
   "metadata": {},
   "outputs": [],
   "source": [
    "# input_data = '''2 VPVL, 7 FWMGM, 2 CXFTF, 11 MNCFX => 1 STKFG\n",
    "# 17 NVRVD, 3 JNWZP => 8 VPVL\n",
    "# 53 STKFG, 6 MNCFX, 46 VJHF, 81 HVMC, 68 CXFTF, 25 GNMV => 1 FUEL\n",
    "# 22 VJHF, 37 MNCFX => 5 FWMGM\n",
    "# 139 ORE => 4 NVRVD\n",
    "# 144 ORE => 7 JNWZP\n",
    "# 5 MNCFX, 7 RFSQX, 2 FWMGM, 2 VPVL, 19 CXFTF => 3 HVMC\n",
    "# 5 VJHF, 7 MNCFX, 9 VPVL, 37 CXFTF => 6 GNMV\n",
    "# 145 ORE => 6 MNCFX\n",
    "# 1 NVRVD => 8 CXFTF\n",
    "# 1 VJHF, 6 MNCFX => 4 RFSQX\n",
    "# 176 ORE => 6 VJHF'''"
   ]
  },
  {
   "cell_type": "code",
   "execution_count": 43,
   "metadata": {},
   "outputs": [],
   "source": [
    "# input_data = '''171 ORE => 8 CNZTR\n",
    "# 7 ZLQW, 3 BMBT, 9 XCVML, 26 XMNCP, 1 WPTQ, 2 MZWV, 1 RJRHP => 4 PLWSL\n",
    "# 114 ORE => 4 BHXH\n",
    "# 14 VRPVC => 6 BMBT\n",
    "# 6 BHXH, 18 KTJDG, 12 WPTQ, 7 PLWSL, 31 FHTLT, 37 ZDVW => 1 FUEL\n",
    "# 6 WPTQ, 2 BMBT, 8 ZLQW, 18 KTJDG, 1 XMNCP, 6 MZWV, 1 RJRHP => 6 FHTLT\n",
    "# 15 XDBXC, 2 LTCX, 1 VRPVC => 6 ZLQW\n",
    "# 13 WPTQ, 10 LTCX, 3 RJRHP, 14 XMNCP, 2 MZWV, 1 ZLQW => 1 ZDVW\n",
    "# 5 BMBT => 4 WPTQ\n",
    "# 189 ORE => 9 KTJDG\n",
    "# 1 MZWV, 17 XDBXC, 3 XCVML => 2 XMNCP\n",
    "# 12 VRPVC, 27 CNZTR => 2 XDBXC\n",
    "# 15 KTJDG, 12 BHXH => 5 XCVML\n",
    "# 3 BHXH, 2 VRPVC => 7 MZWV\n",
    "# 121 ORE => 7 VRPVC\n",
    "# 7 XCVML => 6 RJRHP\n",
    "# 5 BHXH, 4 VRPVC => 5 LTCX'''"
   ]
  },
  {
   "cell_type": "code",
   "execution_count": 53,
   "metadata": {},
   "outputs": [],
   "source": [
    "input_data = '''118 ORE => 7 GTPZ\n",
    "6 RNQJN, 4 NQKVW => 4 DTQRC\n",
    "2 GBXJL => 3 XHBR\n",
    "4 BPZM => 9 LVDRH\n",
    "131 ORE => 3 RHBL\n",
    "2 LFZS => 2 FPRJW\n",
    "6 GTPZ => 4 VTBTK\n",
    "8 GPMP, 2 BPNFJ, 3 LFZS => 2 SFGCR\n",
    "3 GPMP => 4 SPRCM\n",
    "16 XCDZP, 1 NQKSL => 4 NQKVW\n",
    "2 BXGD, 3 VJHSV, 1 MGNCW => 8 MGLH\n",
    "1 XLNTJ => 1 KXBGP\n",
    "9 PJQWR, 19 NQKVW, 10 GJHWN => 7 ZBGDF\n",
    "3 VTBTK => 6 CJNQ\n",
    "12 PJQWR => 1 JNHBR\n",
    "16 BPZM => 9 MVCH\n",
    "1 KWPXQ, 1 LVDRH => 6 LFZS\n",
    "6 VTBTK => 6 XCDZP\n",
    "1 PZFG, 2 LFZS, 2 CJNQ, 2 FPRJW, 17 MVCH, 7 MGNCW, 26 KXBGP => 6 TBTL\n",
    "2 DTQRC, 7 NBNLC => 8 BPZM\n",
    "102 ORE => 3 WNTQ\n",
    "1 WNTQ => 9 NQKSL\n",
    "5 XZMH, 1 LPLMR, 13 BXGD => 8 JPFL\n",
    "1 NQKSL, 6 XCDZP, 2 FCDVQ => 9 GJHWN\n",
    "6 XZMH => 4 GLDL\n",
    "23 ZTWR, 4 BPZM => 2 MGNCW\n",
    "11 GPMP, 19 ZBGDF => 2 XZMH\n",
    "2 MGNCW, 4 XCDZP, 17 KQLT => 4 VJHSV\n",
    "1 CJNQ => 7 QHPH\n",
    "1 RHBL => 8 GBXJL\n",
    "2 MVCH, 3 KDNT, 6 NBNLC, 26 QHPH, 2 KRKB, 1 MCPDH, 4 XZMH, 6 XHBR => 1 HZMWJ\n",
    "9 XDLZ => 1 QSXKS\n",
    "4 GLDL => 6 WJNP\n",
    "5 MVCH => 3 MCPDH\n",
    "14 TKGM => 5 LPLMR\n",
    "1 WVQN => 2 PJQWR\n",
    "4 KWPXQ => 6 FCDVQ\n",
    "10 DTQRC, 27 TBTL, 9 HZMWJ, 41 XVGP, 2 TPZFL, 54 WNTQ, 85 RHBL, 5 WCZK, 2 QVSB, 28 SPRCM => 1 FUEL\n",
    "15 RNQJN, 1 PJQWR, 2 NBNLC => 4 TKGM\n",
    "126 ORE => 5 WVQN\n",
    "10 NBNLC => 3 BWMD\n",
    "2 SFGCR, 1 NQKSL, 1 KRKB => 1 WGQTF\n",
    "2 MLWN => 5 ZTWR\n",
    "12 DTQRC, 3 NQKVW, 9 NBNLC => 8 BPNFJ\n",
    "10 SFGCR, 1 PZFG, 2 ZVFVH, 12 WJNP, 14 WGQTF, 1 JNHBR, 8 FPRJW => 3 QVSB\n",
    "2 MCPDH => 8 XVGP\n",
    "19 JPFL => 4 TPZFL\n",
    "5 GBXJL => 6 MLWN\n",
    "9 TKGM => 5 KDNT\n",
    "1 NQKVW, 15 PJQWR => 9 XDLZ\n",
    "2 QHPH, 2 JNHBR => 1 ZVFVH\n",
    "189 ORE => 6 KWPXQ\n",
    "5 KRKB, 3 MGLH => 6 WCZK\n",
    "3 NBNLC, 8 BWMD => 7 KRKB\n",
    "1 ZBGDF, 6 XDLZ => 4 GPMP\n",
    "11 XDLZ, 1 QSXKS => 2 BXGD\n",
    "2 KRKB, 1 GJHWN => 1 XLNTJ\n",
    "3 ZTWR => 4 RNQJN\n",
    "15 FCDVQ, 3 MLWN => 4 NBNLC\n",
    "1 KDNT, 1 XZMH, 8 BXGD => 1 KQLT\n",
    "2 WJNP => 3 PZFG'''"
   ]
  },
  {
   "cell_type": "code",
   "execution_count": 54,
   "metadata": {},
   "outputs": [],
   "source": [
    "rev_rxn_dict = {}\n",
    "for rxn in input_data.split('\\n'):\n",
    "    reactants, product = rxn.split(' => ')\n",
    "    prod_quantity, prod_species = product.split()\n",
    "    prod_quantity = int(prod_quantity)\n",
    "    rev_rxn_dict[prod_species] = [prod_quantity]\n",
    "    for react_quant_species in reactants.split(','):\n",
    "        react_quant, react_species = react_quant_species.split()\n",
    "        react_quant = int(react_quant)\n",
    "        rev_rxn_dict[prod_species].append((react_quant, react_species)) "
   ]
  },
  {
   "cell_type": "code",
   "execution_count": 55,
   "metadata": {},
   "outputs": [
    {
     "data": {
      "text/plain": [
       "{'GTPZ': [7, (118, 'ORE')],\n",
       " 'DTQRC': [4, (6, 'RNQJN'), (4, 'NQKVW')],\n",
       " 'XHBR': [3, (2, 'GBXJL')],\n",
       " 'LVDRH': [9, (4, 'BPZM')],\n",
       " 'RHBL': [3, (131, 'ORE')],\n",
       " 'FPRJW': [2, (2, 'LFZS')],\n",
       " 'VTBTK': [4, (6, 'GTPZ')],\n",
       " 'SFGCR': [2, (8, 'GPMP'), (2, 'BPNFJ'), (3, 'LFZS')],\n",
       " 'SPRCM': [4, (3, 'GPMP')],\n",
       " 'NQKVW': [4, (16, 'XCDZP'), (1, 'NQKSL')],\n",
       " 'MGLH': [8, (2, 'BXGD'), (3, 'VJHSV'), (1, 'MGNCW')],\n",
       " 'KXBGP': [1, (1, 'XLNTJ')],\n",
       " 'ZBGDF': [7, (9, 'PJQWR'), (19, 'NQKVW'), (10, 'GJHWN')],\n",
       " 'CJNQ': [6, (3, 'VTBTK')],\n",
       " 'JNHBR': [1, (12, 'PJQWR')],\n",
       " 'MVCH': [9, (16, 'BPZM')],\n",
       " 'LFZS': [6, (1, 'KWPXQ'), (1, 'LVDRH')],\n",
       " 'XCDZP': [6, (6, 'VTBTK')],\n",
       " 'TBTL': [6,\n",
       "  (1, 'PZFG'),\n",
       "  (2, 'LFZS'),\n",
       "  (2, 'CJNQ'),\n",
       "  (2, 'FPRJW'),\n",
       "  (17, 'MVCH'),\n",
       "  (7, 'MGNCW'),\n",
       "  (26, 'KXBGP')],\n",
       " 'BPZM': [8, (2, 'DTQRC'), (7, 'NBNLC')],\n",
       " 'WNTQ': [3, (102, 'ORE')],\n",
       " 'NQKSL': [9, (1, 'WNTQ')],\n",
       " 'JPFL': [8, (5, 'XZMH'), (1, 'LPLMR'), (13, 'BXGD')],\n",
       " 'GJHWN': [9, (1, 'NQKSL'), (6, 'XCDZP'), (2, 'FCDVQ')],\n",
       " 'GLDL': [4, (6, 'XZMH')],\n",
       " 'MGNCW': [2, (23, 'ZTWR'), (4, 'BPZM')],\n",
       " 'XZMH': [2, (11, 'GPMP'), (19, 'ZBGDF')],\n",
       " 'VJHSV': [4, (2, 'MGNCW'), (4, 'XCDZP'), (17, 'KQLT')],\n",
       " 'QHPH': [7, (1, 'CJNQ')],\n",
       " 'GBXJL': [8, (1, 'RHBL')],\n",
       " 'HZMWJ': [1,\n",
       "  (2, 'MVCH'),\n",
       "  (3, 'KDNT'),\n",
       "  (6, 'NBNLC'),\n",
       "  (26, 'QHPH'),\n",
       "  (2, 'KRKB'),\n",
       "  (1, 'MCPDH'),\n",
       "  (4, 'XZMH'),\n",
       "  (6, 'XHBR')],\n",
       " 'QSXKS': [1, (9, 'XDLZ')],\n",
       " 'WJNP': [6, (4, 'GLDL')],\n",
       " 'MCPDH': [3, (5, 'MVCH')],\n",
       " 'LPLMR': [5, (14, 'TKGM')],\n",
       " 'PJQWR': [2, (1, 'WVQN')],\n",
       " 'FCDVQ': [6, (4, 'KWPXQ')],\n",
       " 'FUEL': [1,\n",
       "  (10, 'DTQRC'),\n",
       "  (27, 'TBTL'),\n",
       "  (9, 'HZMWJ'),\n",
       "  (41, 'XVGP'),\n",
       "  (2, 'TPZFL'),\n",
       "  (54, 'WNTQ'),\n",
       "  (85, 'RHBL'),\n",
       "  (5, 'WCZK'),\n",
       "  (2, 'QVSB'),\n",
       "  (28, 'SPRCM')],\n",
       " 'TKGM': [4, (15, 'RNQJN'), (1, 'PJQWR'), (2, 'NBNLC')],\n",
       " 'WVQN': [5, (126, 'ORE')],\n",
       " 'BWMD': [3, (10, 'NBNLC')],\n",
       " 'WGQTF': [1, (2, 'SFGCR'), (1, 'NQKSL'), (1, 'KRKB')],\n",
       " 'ZTWR': [5, (2, 'MLWN')],\n",
       " 'BPNFJ': [8, (12, 'DTQRC'), (3, 'NQKVW'), (9, 'NBNLC')],\n",
       " 'QVSB': [3,\n",
       "  (10, 'SFGCR'),\n",
       "  (1, 'PZFG'),\n",
       "  (2, 'ZVFVH'),\n",
       "  (12, 'WJNP'),\n",
       "  (14, 'WGQTF'),\n",
       "  (1, 'JNHBR'),\n",
       "  (8, 'FPRJW')],\n",
       " 'XVGP': [8, (2, 'MCPDH')],\n",
       " 'TPZFL': [4, (19, 'JPFL')],\n",
       " 'MLWN': [6, (5, 'GBXJL')],\n",
       " 'KDNT': [5, (9, 'TKGM')],\n",
       " 'XDLZ': [9, (1, 'NQKVW'), (15, 'PJQWR')],\n",
       " 'ZVFVH': [1, (2, 'QHPH'), (2, 'JNHBR')],\n",
       " 'KWPXQ': [6, (189, 'ORE')],\n",
       " 'WCZK': [6, (5, 'KRKB'), (3, 'MGLH')],\n",
       " 'KRKB': [7, (3, 'NBNLC'), (8, 'BWMD')],\n",
       " 'GPMP': [4, (1, 'ZBGDF'), (6, 'XDLZ')],\n",
       " 'BXGD': [2, (11, 'XDLZ'), (1, 'QSXKS')],\n",
       " 'XLNTJ': [1, (2, 'KRKB'), (1, 'GJHWN')],\n",
       " 'RNQJN': [4, (3, 'ZTWR')],\n",
       " 'NBNLC': [4, (15, 'FCDVQ'), (3, 'MLWN')],\n",
       " 'KQLT': [1, (1, 'KDNT'), (1, 'XZMH'), (8, 'BXGD')],\n",
       " 'PZFG': [3, (2, 'WJNP')]}"
      ]
     },
     "execution_count": 55,
     "metadata": {},
     "output_type": "execute_result"
    }
   ],
   "source": [
    "rev_rxn_dict"
   ]
  },
  {
   "cell_type": "raw",
   "metadata": {},
   "source": [
    "Algorithm\n",
    "Start with fuel\n",
    "what are needed reactants?\n",
    "for each needed reactant, what are it's needed reactants?\n",
    "for an individual reactant\n",
    "    calc how many are needed, check if any are left in extra_reactants\n",
    "        if not\n",
    "            calc how many are generated, add reactants to list, add extras to extra_reactants\n",
    "        if so\n",
    "            if contains all needed\n",
    "                update extra_reactants\n",
    "            if not contains all needed:\n",
    "                calc how many lacking, how many will be generated, add reactants to list, add extras to extra_reactants \n",
    "                "
   ]
  },
  {
   "cell_type": "code",
   "execution_count": 47,
   "metadata": {},
   "outputs": [
    {
     "name": "stdout",
     "output_type": "stream",
     "text": [
      "needed_ore 13312\n"
     ]
    }
   ],
   "source": [
    "# initalize\n",
    "available_resources = defaultdict(lambda : 0)\n",
    "resource_stack = [(1, 'FUEL')]\n",
    "needed_ore = 0\n",
    "\n",
    "while resource_stack:\n",
    "    # print('resource_stack', resource_stack)\n",
    "    # print('available_resources.items()', available_resources.items())\n",
    "    # print('needed_ore', needed_ore)\n",
    "    needed_prod_quant, needed_prod_species = resource_stack.pop(-1) #put pop here\n",
    "    if available_resources[needed_prod_species] >= needed_prod_quant:\n",
    "        # print('available_resources[needed_prod_species] >= needed_prod_quant')\n",
    "        available_resources[needed_prod_species] -= needed_prod_quant\n",
    "    else:\n",
    "        # print('else')\n",
    "        lacking_prod_quant = needed_prod_quant - available_resources[needed_prod_species]\n",
    "        # print('lacking_prod_quant', lacking_prod_quant)\n",
    "        rxn_multiple = math.ceil(lacking_prod_quant/rev_rxn_dict[needed_prod_species][0])\n",
    "        \n",
    "        prod_quant_generated = rev_rxn_dict[needed_prod_species][0]*rxn_multiple\n",
    "        \n",
    "        available_resources[needed_prod_species] = (prod_quant_generated-lacking_prod_quant)\n",
    "        # print('(prod_quant_generated-lacking_prod_quant)', (prod_quant_generated-lacking_prod_quant))\n",
    "        # print(rev_rxn_dict[needed_prod_species][1:])\n",
    "        for reactant_quant, reactant_species in rev_rxn_dict[needed_prod_species][1:]:\n",
    "            if reactant_species == 'ORE':\n",
    "                needed_ore += reactant_quant*rxn_multiple\n",
    "                # print(f'needed_ore for this transaction: {reactant_quant*rxn_multiple}')\n",
    "            else:\n",
    "                resource_stack.append((int(reactant_quant*rxn_multiple), reactant_species))\n",
    "    # print('-----')\n",
    "print('needed_ore', needed_ore)"
   ]
  },
  {
   "cell_type": "code",
   "execution_count": null,
   "metadata": {},
   "outputs": [],
   "source": [
    ">1724741 \n",
    "1724841 (too low)\n",
    "1725741 (too low)\n",
    "1756487 (too low)\n",
    "1800000"
   ]
  },
  {
   "cell_type": "markdown",
   "metadata": {},
   "source": [
    "# part 2"
   ]
  },
  {
   "cell_type": "markdown",
   "metadata": {},
   "source": [
    "I acted as a solver manually, by interating over number in resource stack"
   ]
  },
  {
   "cell_type": "code",
   "execution_count": 85,
   "metadata": {},
   "outputs": [
    {
     "name": "stdout",
     "output_type": "stream",
     "text": [
      "needed_ore 999999786050\n",
      "False\n"
     ]
    }
   ],
   "source": [
    "# initalize\n",
    "available_resources = defaultdict(lambda : 0)\n",
    "# available_resources['ORE'] = int(1e12)\n",
    "resource_stack = [(2521844, 'FUEL')]\n",
    "needed_ore = 0\n",
    "\n",
    "while resource_stack:\n",
    "    # print('resource_stack', resource_stack)\n",
    "    # print('available_resources.items()', available_resources.items())\n",
    "    # print('needed_ore', needed_ore)\n",
    "    needed_prod_quant, needed_prod_species = resource_stack.pop(-1) #put pop here\n",
    "    if available_resources[needed_prod_species] >= needed_prod_quant:\n",
    "        # print('available_resources[needed_prod_species] >= needed_prod_quant')\n",
    "        available_resources[needed_prod_species] -= needed_prod_quant\n",
    "    else:\n",
    "        # print('else')\n",
    "        lacking_prod_quant = needed_prod_quant - available_resources[needed_prod_species]\n",
    "        # print('lacking_prod_quant', lacking_prod_quant)\n",
    "        rxn_multiple = math.ceil(lacking_prod_quant/rev_rxn_dict[needed_prod_species][0])\n",
    "        assert rxn_multiple % 1 == 0\n",
    "        prod_quant_generated = rev_rxn_dict[needed_prod_species][0]*rxn_multiple\n",
    "        \n",
    "        available_resources[needed_prod_species] = (prod_quant_generated-lacking_prod_quant)\n",
    "        # print('(prod_quant_generated-lacking_prod_quant)', (prod_quant_generated-lacking_prod_quant))\n",
    "        # print(rev_rxn_dict[needed_prod_species][1:])\n",
    "        for reactant_quant, reactant_species in rev_rxn_dict[needed_prod_species][1:]:\n",
    "            if reactant_species == 'ORE':\n",
    "                needed_ore += reactant_quant*rxn_multiple\n",
    "                # print(f'needed_ore for this transaction: {reactant_quant*rxn_multiple}')\n",
    "            else:\n",
    "                resource_stack.append((int(reactant_quant*rxn_multiple), reactant_species))\n",
    "    # print('-----')\n",
    "print('needed_ore', needed_ore)\n",
    "print(needed_ore>int(1e12))"
   ]
  },
  {
   "cell_type": "code",
   "execution_count": null,
   "metadata": {},
   "outputs": [],
   "source": []
  },
  {
   "cell_type": "code",
   "execution_count": null,
   "metadata": {},
   "outputs": [],
   "source": []
  }
 ],
 "metadata": {
  "kernelspec": {
   "display_name": "Python 3",
   "language": "python",
   "name": "python3"
  },
  "language_info": {
   "codemirror_mode": {
    "name": "ipython",
    "version": 3
   },
   "file_extension": ".py",
   "mimetype": "text/x-python",
   "name": "python",
   "nbconvert_exporter": "python",
   "pygments_lexer": "ipython3",
   "version": "3.7.3"
  }
 },
 "nbformat": 4,
 "nbformat_minor": 4
}
