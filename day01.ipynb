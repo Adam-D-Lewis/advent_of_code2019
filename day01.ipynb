{
 "cells": [
  {
   "cell_type": "code",
   "execution_count": 2,
   "metadata": {},
   "outputs": [],
   "source": [
    "import numpy as np"
   ]
  },
  {
   "cell_type": "code",
   "execution_count": 3,
   "metadata": {
    "jupyter": {
     "source_hidden": true
    }
   },
   "outputs": [],
   "source": [
    "inp = '''141107\n",
    "119016\n",
    "145241\n",
    "72264\n",
    "116665\n",
    "81420\n",
    "88513\n",
    "128809\n",
    "145471\n",
    "81570\n",
    "124798\n",
    "75370\n",
    "84988\n",
    "71634\n",
    "135275\n",
    "96992\n",
    "53376\n",
    "62414\n",
    "148277\n",
    "135418\n",
    "82475\n",
    "137707\n",
    "105051\n",
    "83450\n",
    "102673\n",
    "88390\n",
    "100849\n",
    "94528\n",
    "135709\n",
    "63945\n",
    "126413\n",
    "70107\n",
    "84734\n",
    "119176\n",
    "85769\n",
    "115276\n",
    "137511\n",
    "61806\n",
    "92892\n",
    "121640\n",
    "93726\n",
    "146526\n",
    "95812\n",
    "132556\n",
    "103885\n",
    "78776\n",
    "55826\n",
    "120257\n",
    "61131\n",
    "79179\n",
    "130698\n",
    "97153\n",
    "121985\n",
    "61159\n",
    "103585\n",
    "148674\n",
    "84067\n",
    "110085\n",
    "138473\n",
    "105495\n",
    "112393\n",
    "144411\n",
    "73328\n",
    "125955\n",
    "58075\n",
    "136147\n",
    "124106\n",
    "81185\n",
    "138847\n",
    "69814\n",
    "127104\n",
    "86090\n",
    "67666\n",
    "102333\n",
    "99546\n",
    "98280\n",
    "99062\n",
    "129433\n",
    "125353\n",
    "77609\n",
    "71240\n",
    "71791\n",
    "146046\n",
    "113685\n",
    "121381\n",
    "122715\n",
    "147789\n",
    "53981\n",
    "140926\n",
    "81528\n",
    "121789\n",
    "106627\n",
    "73745\n",
    "67509\n",
    "144140\n",
    "119238\n",
    "82417\n",
    "129215\n",
    "75663\n",
    "106842'''\n",
    "inp = np.asarray([int(i) for i in inp.split('\\n')])"
   ]
  },
  {
   "cell_type": "markdown",
   "metadata": {},
   "source": [
    "# Part 1"
   ]
  },
  {
   "cell_type": "code",
   "execution_count": 6,
   "metadata": {},
   "outputs": [
    {
     "data": {
      "text/plain": [
       "3454026.0"
      ]
     },
     "execution_count": 6,
     "metadata": {},
     "output_type": "execute_result"
    }
   ],
   "source": [
    "np.sum(np.floor(inp/3)-2)"
   ]
  },
  {
   "cell_type": "markdown",
   "metadata": {},
   "source": [
    "# Part 2"
   ]
  },
  {
   "cell_type": "code",
   "execution_count": 7,
   "metadata": {},
   "outputs": [
    {
     "data": {
      "text/plain": [
       "5178170.0"
      ]
     },
     "execution_count": 7,
     "metadata": {},
     "output_type": "execute_result"
    }
   ],
   "source": [
    "fuel_total = 0\n",
    "fuels = np.floor(inp/3)-2\n",
    "while fuels[fuels>0].shape[0] > 0:\n",
    "    fuel_total += np.sum(fuels[fuels>0])\n",
    "    fuels = np.floor(fuels/3)-2\n",
    "fuel_total    "
   ]
  }
 ],
 "metadata": {
  "kernelspec": {
   "display_name": "Python 3",
   "language": "python",
   "name": "python3"
  },
  "language_info": {
   "codemirror_mode": {
    "name": "ipython",
    "version": 3
   },
   "file_extension": ".py",
   "mimetype": "text/x-python",
   "name": "python",
   "nbconvert_exporter": "python",
   "pygments_lexer": "ipython3",
   "version": "3.7.3"
  }
 },
 "nbformat": 4,
 "nbformat_minor": 4
}
