{
 "cells": [
  {
   "cell_type": "code",
   "execution_count": 1,
   "metadata": {},
   "outputs": [],
   "source": [
    "import numpy as np"
   ]
  },
  {
   "cell_type": "code",
   "execution_count": 2,
   "metadata": {},
   "outputs": [],
   "source": [
    "import itertools"
   ]
  },
  {
   "cell_type": "markdown",
   "metadata": {},
   "source": [
    "# Part 1"
   ]
  },
  {
   "cell_type": "code",
   "execution_count": 3,
   "metadata": {},
   "outputs": [
    {
     "name": "stdout",
     "output_type": "stream",
     "text": [
      "9581917\n"
     ]
    }
   ],
   "source": [
    "# set to error state\n",
    "result = 0\n",
    "\n",
    "noun = 12\n",
    "verb = 2\n",
    "\n",
    "inp = '1,0,0,3,1,1,2,3,1,3,4,3,1,5,0,3,2,1,10,19,2,9,19,23,1,9,23,27,2,27,9,31,1,31,5,35,2,35,9,39,1,39,10,43,2,43,13,47,1,47,6,51,2,51,10,55,1,9,55,59,2,6,59,63,1,63,6,67,1,67,10,71,1,71,10,75,2,9,75,79,1,5,79,83,2,9,83,87,1,87,9,91,2,91,13,95,1,95,9,99,1,99,6,103,2,103,6,107,1,107,5,111,1,13,111,115,2,115,6,119,1,119,5,123,1,2,123,127,1,6,127,0,99,2,14,0,0'\n",
    "program = np.asarray([int(i) for i in inp.split(',')])\n",
    "\n",
    "program[1] = noun\n",
    "program[2] = verb\n",
    "\n",
    "for i in range(program.shape[0]//4):\n",
    "    command = program[i*4: i*4+4]\n",
    "    if command[0] == 99:\n",
    "        break\n",
    "    if command[0] == 1:\n",
    "        program[command[3]] = program[command[1]] + program[command[2]]\n",
    "    elif command[0] == 2:\n",
    "        program[command[3]] = program[command[1]] * program[command[2]]\n",
    "result = program[0]\n",
    "\n",
    "print(program[0])"
   ]
  },
  {
   "cell_type": "markdown",
   "metadata": {},
   "source": [
    "# Part 2"
   ]
  },
  {
   "cell_type": "code",
   "execution_count": 4,
   "metadata": {},
   "outputs": [
    {
     "name": "stdout",
     "output_type": "stream",
     "text": [
      "19690720\n",
      "25\n",
      "5\n",
      "2505\n"
     ]
    }
   ],
   "source": [
    "\n",
    "# set to error state\n",
    "result = 0\n",
    "for noun, verb in itertools.product(range(100), range(100)):\n",
    "    inp = '1,0,0,3,1,1,2,3,1,3,4,3,1,5,0,3,2,1,10,19,2,9,19,23,1,9,23,27,2,27,9,31,1,31,5,35,2,35,9,39,1,39,10,43,2,43,13,47,1,47,6,51,2,51,10,55,1,9,55,59,2,6,59,63,1,63,6,67,1,67,10,71,1,71,10,75,2,9,75,79,1,5,79,83,2,9,83,87,1,87,9,91,2,91,13,95,1,95,9,99,1,99,6,103,2,103,6,107,1,107,5,111,1,13,111,115,2,115,6,119,1,119,5,123,1,2,123,127,1,6,127,0,99,2,14,0,0'\n",
    "    program = np.asarray([int(i) for i in inp.split(',')])\n",
    "\n",
    "    program[1] = noun\n",
    "    program[2] = verb\n",
    "\n",
    "    for i in range(program.shape[0]//4):\n",
    "        command = program[i*4: i*4+4]\n",
    "        if command[0] == 99:\n",
    "            break\n",
    "        if command[0] == 1:\n",
    "            program[command[3]] = program[command[1]] + program[command[2]]\n",
    "        elif command[0] == 2:\n",
    "            program[command[3]] = program[command[1]] * program[command[2]]\n",
    "    result = program[0]\n",
    "    if result == 19690720:\n",
    "        break\n",
    "print(program[0])\n",
    "print(noun)\n",
    "print(verb)\n",
    "\n",
    "print(noun*100+verb)"
   ]
  }
 ],
 "metadata": {
  "kernelspec": {
   "display_name": "Python 3",
   "language": "python",
   "name": "python3"
  },
  "language_info": {
   "codemirror_mode": {
    "name": "ipython",
    "version": 3
   },
   "file_extension": ".py",
   "mimetype": "text/x-python",
   "name": "python",
   "nbconvert_exporter": "python",
   "pygments_lexer": "ipython3",
   "version": "3.7.3"
  }
 },
 "nbformat": 4,
 "nbformat_minor": 4
}
