{
 "cells": [
  {
   "cell_type": "markdown",
   "metadata": {},
   "source": [
    "# puzzle input = 231832-767346"
   ]
  },
  {
   "cell_type": "code",
   "execution_count": 9,
   "metadata": {},
   "outputs": [
    {
     "data": {
      "text/plain": [
       "1330"
      ]
     },
     "execution_count": 9,
     "metadata": {},
     "output_type": "execute_result"
    }
   ],
   "source": [
    "count = 0\n",
    "for i in range (231832, 767346+1):\n",
    "    digits = [int(d) for d in str(i)]\n",
    "    len_digits = len(digits)\n",
    "    same = False\n",
    "    reached_end = False\n",
    "    \n",
    "    prev_digit = -1\n",
    "    for i, d in enumerate(digits):\n",
    "        if d < prev_digit:\n",
    "            break\n",
    "        if d == prev_digit:\n",
    "            same = True\n",
    "        \n",
    "        prev_digit = d\n",
    "        if i == len_digits-1:\n",
    "            reached_end = True\n",
    "        \n",
    "    \n",
    "    if same and reached_end:\n",
    "        count += 1\n",
    "count"
   ]
  },
  {
   "cell_type": "markdown",
   "metadata": {},
   "source": [
    "# I didn't save part 2 when I did this originally, but it was something like below"
   ]
  },
  {
   "cell_type": "code",
   "execution_count": null,
   "metadata": {},
   "outputs": [],
   "source": [
    "from collections import Counter"
   ]
  },
  {
   "cell_type": "code",
   "execution_count": 95,
   "metadata": {},
   "outputs": [
    {
     "data": {
      "text/plain": [
       "806"
      ]
     },
     "execution_count": 95,
     "metadata": {},
     "output_type": "execute_result"
    }
   ],
   "source": [
    "passed = []\n",
    "not_passed = []\n",
    "for i in range (231832, 767346+1):\n",
    "    digits = [int(d) for d in str(i)]\n",
    "    len_digits = len(digits)\n",
    "    reached_end = False\n",
    "    \n",
    "    prev_digit = -1\n",
    "    for j, d in enumerate(digits):\n",
    "        if d < prev_digit:\n",
    "            break\n",
    "        \n",
    "        prev_digit = d\n",
    "        if j == len_digits-1:\n",
    "            reached_end = True\n",
    "        \n",
    "    \n",
    "    if reached_end:\n",
    "        add = True\n",
    "        c = Counter(digits)\n",
    "        for key, val in c.items():\n",
    "            if val > 1 and val % 2 == 1:\n",
    "                add = False\n",
    "        if add:\n",
    "            passed.append(i)\n",
    "        else:\n",
    "            not_passed.append(i)\n",
    "len(passed)"
   ]
  }
 ],
 "metadata": {
  "kernelspec": {
   "display_name": "Python 3",
   "language": "python",
   "name": "python3"
  },
  "language_info": {
   "codemirror_mode": {
    "name": "ipython",
    "version": 3
   },
   "file_extension": ".py",
   "mimetype": "text/x-python",
   "name": "python",
   "nbconvert_exporter": "python",
   "pygments_lexer": "ipython3",
   "version": "3.7.3"
  }
 },
 "nbformat": 4,
 "nbformat_minor": 4
}
