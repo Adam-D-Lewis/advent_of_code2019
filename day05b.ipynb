{
 "cells": [
  {
   "cell_type": "code",
   "execution_count": 1,
   "metadata": {},
   "outputs": [],
   "source": [
    "import logging\n",
    "from pathlib import Path\n",
    "import os\n",
    "# create logger with 'spam_application'\n",
    "logger = logging.getLogger('spam_application')\n",
    "logger.setLevel(logging.DEBUG)\n",
    "\n",
    "# delete log if already exists\n",
    "log_path = Path('spam.log')\n",
    "if log_path.exists():\n",
    "    os.remove(log_path)\n",
    "\n",
    "# create file handler which logs even debug messages\n",
    "fh = logging.FileHandler(log_path)\n",
    "fh.setLevel(logging.DEBUG)\n",
    "# create console handler with a higher log level\n",
    "ch = logging.StreamHandler()\n",
    "ch.setLevel(logging.ERROR)\n",
    "# create formatter and add it to the handlers\n",
    "formatter = logging.Formatter('%(asctime)s - %(name)s - %(levelname)s - %(message)s')\n",
    "fh.setFormatter(formatter)\n",
    "ch.setFormatter(formatter)\n",
    "# add the handlers to the logger\n",
    "logger.addHandler(fh)\n",
    "logger.addHandler(ch)"
   ]
  },
  {
   "cell_type": "markdown",
   "metadata": {},
   "source": [
    "# day04"
   ]
  },
  {
   "cell_type": "code",
   "execution_count": 2,
   "metadata": {},
   "outputs": [],
   "source": [
    "op_code_num_params = {  1: 3, # add next two numbers, store according to 3rd param\n",
    "                        2: 3, # multiply next two numbers, store according to 3rd param\n",
    "                        3: 1, # takes integer and stores it at address given by only parameter (1 param)\n",
    "                        4: 1, # outputs the value at the address of its only parameter (1 param)\n",
    "                        5: 2, # jump-if-true: if the first parameter is non-zero, it sets the instruction pointer to the value from the second parameter.\n",
    "                        6: 2, # jump-if-false:\n",
    "                        7: 3, # less than: if the first parameter is less than the second parameter, it stores 1 in the position given by the third parameter. Otherwise, it stores 0.\n",
    "                        8: 3, # equals: if the first parameter is equal to the second parameter, it stores 1 in the position given by the third parameter. Otherwise, it stores 0.\n",
    "                        99: 0} # ends program immediately (0 params)"
   ]
  },
  {
   "cell_type": "code",
   "execution_count": 3,
   "metadata": {},
   "outputs": [],
   "source": [
    "param_modes = {0, # position mode - look at memory location\n",
    "               1} # immediate mode - take value as written"
   ]
  },
  {
   "cell_type": "raw",
   "metadata": {},
   "source": [
    "param modes are specified in all but last two characters of op_codes\n",
    "1002,4,3,4 - 3 parameters, 02 is op code, 0 - 4  #working right to left \n",
    "                                          1 - 3\n",
    "                                          0 - 4 (0 is implied)"
   ]
  },
  {
   "cell_type": "code",
   "execution_count": 4,
   "metadata": {},
   "outputs": [],
   "source": [
    "def get_params(p, i, n_params):\n",
    "    params = []\n",
    "    for j in range(i, i+n_params):\n",
    "        params.append(p[j])\n",
    "    return p[i:i+n_params]"
   ]
  },
  {
   "cell_type": "code",
   "execution_count": 5,
   "metadata": {},
   "outputs": [],
   "source": [
    "def get_param_values(param_modes, params, program):\n",
    "    param_values = []\n",
    "    for mode, param in zip(param_modes, params):\n",
    "        if mode == '0':\n",
    "            param_values.append(program[param])\n",
    "        elif mode == '1':\n",
    "            param_values.append(param)\n",
    "    return param_values"
   ]
  },
  {
   "cell_type": "code",
   "execution_count": 6,
   "metadata": {},
   "outputs": [],
   "source": [
    "program = '3,225,1,225,6,6,1100,1,238,225,104,0,1101,9,90,224,1001,224,-99,224,4,224,102,8,223,223,1001,224,6,224,1,223,224,223,1102,26,62,225,1101,11,75,225,1101,90,43,225,2,70,35,224,101,-1716,224,224,4,224,1002,223,8,223,101,4,224,224,1,223,224,223,1101,94,66,225,1102,65,89,225,101,53,144,224,101,-134,224,224,4,224,1002,223,8,223,1001,224,5,224,1,224,223,223,1102,16,32,224,101,-512,224,224,4,224,102,8,223,223,101,5,224,224,1,224,223,223,1001,43,57,224,101,-147,224,224,4,224,102,8,223,223,101,4,224,224,1,223,224,223,1101,36,81,225,1002,39,9,224,1001,224,-99,224,4,224,1002,223,8,223,101,2,224,224,1,223,224,223,1,213,218,224,1001,224,-98,224,4,224,102,8,223,223,101,2,224,224,1,224,223,223,102,21,74,224,101,-1869,224,224,4,224,102,8,223,223,1001,224,7,224,1,224,223,223,1101,25,15,225,1101,64,73,225,4,223,99,0,0,0,677,0,0,0,0,0,0,0,0,0,0,0,1105,0,99999,1105,227,247,1105,1,99999,1005,227,99999,1005,0,256,1105,1,99999,1106,227,99999,1106,0,265,1105,1,99999,1006,0,99999,1006,227,274,1105,1,99999,1105,1,280,1105,1,99999,1,225,225,225,1101,294,0,0,105,1,0,1105,1,99999,1106,0,300,1105,1,99999,1,225,225,225,1101,314,0,0,106,0,0,1105,1,99999,1008,226,677,224,1002,223,2,223,1005,224,329,1001,223,1,223,1007,677,677,224,102,2,223,223,1005,224,344,101,1,223,223,108,226,677,224,102,2,223,223,1006,224,359,101,1,223,223,108,226,226,224,1002,223,2,223,1005,224,374,1001,223,1,223,7,226,226,224,1002,223,2,223,1006,224,389,1001,223,1,223,8,226,677,224,1002,223,2,223,1006,224,404,1001,223,1,223,107,677,677,224,1002,223,2,223,1006,224,419,101,1,223,223,1008,677,677,224,102,2,223,223,1006,224,434,101,1,223,223,1107,226,677,224,102,2,223,223,1005,224,449,1001,223,1,223,107,226,226,224,102,2,223,223,1006,224,464,101,1,223,223,107,226,677,224,102,2,223,223,1005,224,479,1001,223,1,223,8,677,226,224,102,2,223,223,1005,224,494,1001,223,1,223,1108,226,677,224,102,2,223,223,1006,224,509,101,1,223,223,1107,677,226,224,1002,223,2,223,1005,224,524,101,1,223,223,1008,226,226,224,1002,223,2,223,1005,224,539,101,1,223,223,7,226,677,224,1002,223,2,223,1005,224,554,101,1,223,223,1107,677,677,224,1002,223,2,223,1006,224,569,1001,223,1,223,8,226,226,224,1002,223,2,223,1006,224,584,101,1,223,223,1108,677,677,224,102,2,223,223,1005,224,599,101,1,223,223,108,677,677,224,1002,223,2,223,1006,224,614,101,1,223,223,1007,226,226,224,102,2,223,223,1005,224,629,1001,223,1,223,7,677,226,224,1002,223,2,223,1005,224,644,101,1,223,223,1007,226,677,224,102,2,223,223,1005,224,659,1001,223,1,223,1108,677,226,224,102,2,223,223,1006,224,674,101,1,223,223,4,223,99,226'\n",
    "program = [int(val) for val in program.split(',')]\n",
    "equals_8 = [3,9,8,9,10,9,4,9,99,-1,8]\n",
    "less_than_8 = [3,9,7,9,10,9,4,9,99,-1,8]\n",
    "\n"
   ]
  },
  {
   "cell_type": "raw",
   "metadata": {},
   "source": [
    "input = 7\n",
    "\n",
    "0 1 2 3 4  5 6 7 8   9 10\n",
    "3,9,7,9,10,9,4,9,99,1,8"
   ]
  },
  {
   "cell_type": "code",
   "execution_count": 7,
   "metadata": {},
   "outputs": [
    {
     "name": "stdout",
     "output_type": "stream",
     "text": [
      "3176266\n"
     ]
    }
   ],
   "source": [
    "p = program.copy()\n",
    "INPUT_VALUE = 5\n",
    "\n",
    "continue_ = True\n",
    "i = 0\n",
    "while continue_:\n",
    "    mode_and_op_code = p[i]\n",
    "    logger.info('reading op_code')\n",
    "    op_code = mode_and_op_code % 100\n",
    "    logger.info(f'op_code={op_code}')\n",
    "    logger.info('entering get_params')\n",
    "    n_params = op_code_num_params[op_code]\n",
    "    params = p[i+1:i+1+n_params] # get_params(p, i, n_params=op_code_num_params[op_code])\n",
    "    i += n_params+1\n",
    "    logger.info(f'exited get_params, params={params}')\n",
    "    logger.info('getting param_modes')\n",
    "    param_modes = str(mode_and_op_code // 100).zfill(op_code_num_params[op_code])[::-1] # left to right now\n",
    "    logger.info(f'exited param_modes, param_modes = {param_modes}')\n",
    "    logger.info('entering get_param_values')\n",
    "    param_values = get_param_values(param_modes, params, p)\n",
    "    logger.info(f'exited get_param_values, param_values={param_values}')\n",
    "    \n",
    "    # param_values are not necessarilly accurate except for op_code 1 and 2,\n",
    "    # the logic was adjusted below to correct for this\n",
    "    if op_code == 1:\n",
    "        p[params[2]] = param_values[0] + param_values[1]\n",
    "    elif op_code == 2:\n",
    "        p[params[2]] = param_values[0] * param_values[1]\n",
    "    elif op_code == 3:\n",
    "        p[params[0]] = INPUT_VALUE\n",
    "    elif op_code == 4:\n",
    "        print(p[params[0]])\n",
    "    elif op_code == 5:\n",
    "        if param_values[0] != 0:\n",
    "            i = param_values[1]\n",
    "    elif op_code == 6:\n",
    "        if param_values[0] == 0:\n",
    "            i = param_values[1]\n",
    "    elif op_code == 7:\n",
    "        if param_values[0] < param_values[1]:\n",
    "            p[params[2]] = 1\n",
    "        else:\n",
    "            p[params[2]] = 0\n",
    "    elif op_code == 8:\n",
    "        if param_values[0] == param_values[1]:\n",
    "            p[params[2]] = 1\n",
    "        else:\n",
    "            p[params[2]] = 0\n",
    "    elif op_code == 99:\n",
    "        continue_ = False\n",
    "        break\n",
    "    logger.info(f'finished an iteration p = {p}\\n')\n",
    "logger.info('---------------------------\\n')\n",
    "logger.info('program terminated noramlly')\n",
    "    "
   ]
  }
 ],
 "metadata": {
  "kernelspec": {
   "display_name": "Python 3",
   "language": "python",
   "name": "python3"
  },
  "language_info": {
   "codemirror_mode": {
    "name": "ipython",
    "version": 3
   },
   "file_extension": ".py",
   "mimetype": "text/x-python",
   "name": "python",
   "nbconvert_exporter": "python",
   "pygments_lexer": "ipython3",
   "version": "3.7.3"
  }
 },
 "nbformat": 4,
 "nbformat_minor": 4
}
